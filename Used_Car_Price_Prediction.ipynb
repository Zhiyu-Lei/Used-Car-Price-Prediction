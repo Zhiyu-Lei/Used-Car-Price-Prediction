{
 "cells": [
  {
   "cell_type": "code",
   "execution_count": 1,
   "id": "catholic-accountability",
   "metadata": {
    "execution": {
     "iopub.execute_input": "2021-05-10T22:39:21.591349Z",
     "iopub.status.busy": "2021-05-10T22:39:21.590233Z",
     "iopub.status.idle": "2021-05-10T22:39:21.613964Z",
     "shell.execute_reply": "2021-05-10T22:39:21.613311Z"
    },
    "papermill": {
     "duration": 0.053252,
     "end_time": "2021-05-10T22:39:21.614144",
     "exception": false,
     "start_time": "2021-05-10T22:39:21.560892",
     "status": "completed"
    },
    "tags": []
   },
   "outputs": [
    {
     "name": "stdout",
     "output_type": "stream",
     "text": [
      "/kaggle/input/cars-dataset-audi-bmw-ford-hyundai-skoda-vw/cars_dataset.csv\n"
     ]
    }
   ],
   "source": [
    "# This Python 3 environment comes with many helpful analytics libraries installed\n",
    "# It is defined by the kaggle/python Docker image: https://github.com/kaggle/docker-python\n",
    "# For example, here's several helpful packages to load\n",
    "\n",
    "import numpy as np # linear algebra\n",
    "import pandas as pd # data processing, CSV file I/O (e.g. pd.read_csv)\n",
    "\n",
    "# Input data files are available in the read-only \"../input/\" directory\n",
    "# For example, running this (by clicking run or pressing Shift+Enter) will list all files under the input directory\n",
    "\n",
    "import os\n",
    "for dirname, _, filenames in os.walk('/kaggle/input'):\n",
    "    for filename in filenames:\n",
    "        print(os.path.join(dirname, filename))\n",
    "\n",
    "# You can write up to 20GB to the current directory (/kaggle/working/) that gets preserved as output when you create a version using \"Save & Run All\" \n",
    "# You can also write temporary files to /kaggle/temp/, but they won't be saved outside of the current session"
   ]
  },
  {
   "cell_type": "markdown",
   "id": "polished-ticket",
   "metadata": {
    "id": "I4q71YcN7wE7",
    "papermill": {
     "duration": 0.025462,
     "end_time": "2021-05-10T22:39:21.665793",
     "exception": false,
     "start_time": "2021-05-10T22:39:21.640331",
     "status": "completed"
    },
    "tags": []
   },
   "source": [
    "# Load dataset and EDA"
   ]
  },
  {
   "cell_type": "code",
   "execution_count": 2,
   "id": "muslim-differential",
   "metadata": {
    "execution": {
     "iopub.execute_input": "2021-05-10T22:39:21.722321Z",
     "iopub.status.busy": "2021-05-10T22:39:21.721647Z",
     "iopub.status.idle": "2021-05-10T22:39:22.742103Z",
     "shell.execute_reply": "2021-05-10T22:39:22.742592Z"
    },
    "id": "3xh-92NN7cMY",
    "outputId": "bd682582-9199-4330-e304-d985965bfc3c",
    "papermill": {
     "duration": 1.051444,
     "end_time": "2021-05-10T22:39:22.742830",
     "exception": false,
     "start_time": "2021-05-10T22:39:21.691386",
     "status": "completed"
    },
    "tags": []
   },
   "outputs": [
    {
     "data": {
      "text/html": [
       "<div>\n",
       "<style scoped>\n",
       "    .dataframe tbody tr th:only-of-type {\n",
       "        vertical-align: middle;\n",
       "    }\n",
       "\n",
       "    .dataframe tbody tr th {\n",
       "        vertical-align: top;\n",
       "    }\n",
       "\n",
       "    .dataframe thead th {\n",
       "        text-align: right;\n",
       "    }\n",
       "</style>\n",
       "<table border=\"1\" class=\"dataframe\">\n",
       "  <thead>\n",
       "    <tr style=\"text-align: right;\">\n",
       "      <th></th>\n",
       "      <th>model</th>\n",
       "      <th>year</th>\n",
       "      <th>price</th>\n",
       "      <th>transmission</th>\n",
       "      <th>mileage</th>\n",
       "      <th>fuelType</th>\n",
       "      <th>tax</th>\n",
       "      <th>mpg</th>\n",
       "      <th>engineSize</th>\n",
       "      <th>Make</th>\n",
       "    </tr>\n",
       "  </thead>\n",
       "  <tbody>\n",
       "    <tr>\n",
       "      <th>0</th>\n",
       "      <td>A1</td>\n",
       "      <td>2017</td>\n",
       "      <td>12500</td>\n",
       "      <td>Manual</td>\n",
       "      <td>15735</td>\n",
       "      <td>Petrol</td>\n",
       "      <td>150.0</td>\n",
       "      <td>55.4</td>\n",
       "      <td>1.4</td>\n",
       "      <td>audi</td>\n",
       "    </tr>\n",
       "    <tr>\n",
       "      <th>1</th>\n",
       "      <td>A6</td>\n",
       "      <td>2016</td>\n",
       "      <td>16500</td>\n",
       "      <td>Automatic</td>\n",
       "      <td>36203</td>\n",
       "      <td>Diesel</td>\n",
       "      <td>20.0</td>\n",
       "      <td>64.2</td>\n",
       "      <td>2.0</td>\n",
       "      <td>audi</td>\n",
       "    </tr>\n",
       "    <tr>\n",
       "      <th>2</th>\n",
       "      <td>A1</td>\n",
       "      <td>2016</td>\n",
       "      <td>11000</td>\n",
       "      <td>Manual</td>\n",
       "      <td>29946</td>\n",
       "      <td>Petrol</td>\n",
       "      <td>30.0</td>\n",
       "      <td>55.4</td>\n",
       "      <td>1.4</td>\n",
       "      <td>audi</td>\n",
       "    </tr>\n",
       "    <tr>\n",
       "      <th>3</th>\n",
       "      <td>A4</td>\n",
       "      <td>2017</td>\n",
       "      <td>16800</td>\n",
       "      <td>Automatic</td>\n",
       "      <td>25952</td>\n",
       "      <td>Diesel</td>\n",
       "      <td>145.0</td>\n",
       "      <td>67.3</td>\n",
       "      <td>2.0</td>\n",
       "      <td>audi</td>\n",
       "    </tr>\n",
       "    <tr>\n",
       "      <th>4</th>\n",
       "      <td>A3</td>\n",
       "      <td>2019</td>\n",
       "      <td>17300</td>\n",
       "      <td>Manual</td>\n",
       "      <td>1998</td>\n",
       "      <td>Petrol</td>\n",
       "      <td>145.0</td>\n",
       "      <td>49.6</td>\n",
       "      <td>1.0</td>\n",
       "      <td>audi</td>\n",
       "    </tr>\n",
       "  </tbody>\n",
       "</table>\n",
       "</div>"
      ],
      "text/plain": [
       "  model  year  price transmission  mileage fuelType    tax   mpg  engineSize  \\\n",
       "0    A1  2017  12500       Manual    15735   Petrol  150.0  55.4         1.4   \n",
       "1    A6  2016  16500    Automatic    36203   Diesel   20.0  64.2         2.0   \n",
       "2    A1  2016  11000       Manual    29946   Petrol   30.0  55.4         1.4   \n",
       "3    A4  2017  16800    Automatic    25952   Diesel  145.0  67.3         2.0   \n",
       "4    A3  2019  17300       Manual     1998   Petrol  145.0  49.6         1.0   \n",
       "\n",
       "   Make  \n",
       "0  audi  \n",
       "1  audi  \n",
       "2  audi  \n",
       "3  audi  \n",
       "4  audi  "
      ]
     },
     "execution_count": 2,
     "metadata": {},
     "output_type": "execute_result"
    }
   ],
   "source": [
    "import matplotlib.pyplot as plt\n",
    "import seaborn as sns\n",
    "import warnings\n",
    "\n",
    "warnings.filterwarnings(\"ignore\")\n",
    "\n",
    "cars = pd.read_csv(\"/kaggle/input/cars-dataset-audi-bmw-ford-hyundai-skoda-vw/cars_dataset.csv\")\n",
    "cars.head()"
   ]
  },
  {
   "cell_type": "code",
   "execution_count": 3,
   "id": "tracked-child",
   "metadata": {
    "execution": {
     "iopub.execute_input": "2021-05-10T22:39:22.800695Z",
     "iopub.status.busy": "2021-05-10T22:39:22.800021Z",
     "iopub.status.idle": "2021-05-10T22:39:22.836363Z",
     "shell.execute_reply": "2021-05-10T22:39:22.835801Z"
    },
    "id": "oDdiSaGf73YD",
    "outputId": "e0f39802-dd80-41bc-9b4d-beaebcc5c40d",
    "papermill": {
     "duration": 0.066877,
     "end_time": "2021-05-10T22:39:22.836493",
     "exception": false,
     "start_time": "2021-05-10T22:39:22.769616",
     "status": "completed"
    },
    "tags": []
   },
   "outputs": [
    {
     "data": {
      "text/plain": [
       "model           False\n",
       "year            False\n",
       "price           False\n",
       "transmission    False\n",
       "mileage         False\n",
       "fuelType        False\n",
       "tax             False\n",
       "mpg             False\n",
       "engineSize      False\n",
       "Make            False\n",
       "dtype: bool"
      ]
     },
     "execution_count": 3,
     "metadata": {},
     "output_type": "execute_result"
    }
   ],
   "source": [
    "cars.isna().any()"
   ]
  },
  {
   "cell_type": "code",
   "execution_count": 4,
   "id": "terminal-anatomy",
   "metadata": {
    "execution": {
     "iopub.execute_input": "2021-05-10T22:39:22.893939Z",
     "iopub.status.busy": "2021-05-10T22:39:22.893332Z",
     "iopub.status.idle": "2021-05-10T22:39:23.871617Z",
     "shell.execute_reply": "2021-05-10T22:39:23.871080Z"
    },
    "id": "zZ_3xQP2CZd-",
    "outputId": "f644bc8a-5903-4015-999e-ff2f872b57c9",
    "papermill": {
     "duration": 1.008659,
     "end_time": "2021-05-10T22:39:23.871766",
     "exception": false,
     "start_time": "2021-05-10T22:39:22.863107",
     "status": "completed"
    },
    "tags": []
   },
   "outputs": [
    {
     "data": {
      "image/png": "[encoded data removed]",
      "text/plain": [
       "<Figure size 864x648 with 6 Axes>"
      ]
     },
     "metadata": {
      "needs_background": "light"
     },
     "output_type": "display_data"
    }
   ],
   "source": [
    "cars.hist(figsize=(12, 9))\n",
    "plt.show()"
   ]
  },
  {
   "cell_type": "code",
   "execution_count": 5,
   "id": "great-advocate",
   "metadata": {
    "execution": {
     "iopub.execute_input": "2021-05-10T22:39:23.936226Z",
     "iopub.status.busy": "2021-05-10T22:39:23.935561Z",
     "iopub.status.idle": "2021-05-10T22:39:24.289063Z",
     "shell.execute_reply": "2021-05-10T22:39:24.288557Z"
    },
    "id": "LOI1xlq_Hw-E",
    "outputId": "272894fb-b394-4595-f8e8-bbf9a0b95c6a",
    "papermill": {
     "duration": 0.389182,
     "end_time": "2021-05-10T22:39:24.289227",
     "exception": false,
     "start_time": "2021-05-10T22:39:23.900045",
     "status": "completed"
    },
    "tags": []
   },
   "outputs": [
    {
     "data": {
      "image/png": "[encoded data removed]",
      "text/plain": [
       "<Figure size 576x432 with 2 Axes>"
      ]
     },
     "metadata": {
      "needs_background": "light"
     },
     "output_type": "display_data"
    }
   ],
   "source": [
    "plt.figure(figsize=(8, 6))\n",
    "correlations = cars.corr().round(2)\n",
    "mask = np.triu(np.ones_like(correlations))\n",
    "sns.heatmap(data=correlations, mask=mask, square=True, linewidths=0.5, annot=True)\n",
    "plt.show()"
   ]
  },
  {
   "cell_type": "code",
   "execution_count": 6,
   "id": "hollywood-reference",
   "metadata": {
    "execution": {
     "iopub.execute_input": "2021-05-10T22:39:24.417274Z",
     "iopub.status.busy": "2021-05-10T22:39:24.403374Z",
     "iopub.status.idle": "2021-05-10T22:39:24.421028Z",
     "shell.execute_reply": "2021-05-10T22:39:24.420556Z"
    },
    "id": "AzKBBhEXCrM4",
    "outputId": "326c7df2-c298-4be9-b84b-6b2043c508f9",
    "papermill": {
     "duration": 0.102113,
     "end_time": "2021-05-10T22:39:24.421178",
     "exception": false,
     "start_time": "2021-05-10T22:39:24.319065",
     "status": "completed"
    },
    "tags": []
   },
   "outputs": [
    {
     "name": "stdout",
     "output_type": "stream",
     "text": [
      "Counter({'Ford': 17964, 'vw': 15157, 'BMW': 10781, 'audi': 10668, 'toyota': 6738, 'skoda': 6267, 'Hyundai': 4860})\n",
      "Counter({'Ford_ Fiesta': 6556, 'vw_ Golf': 4863, 'Ford_ Focus': 4588, 'vw_ Polo': 3287, 'BMW_ 3 Series': 2443, 'Ford_ Kuga': 2225, 'toyota_ Yaris': 2122, 'BMW_ 1 Series': 1969, 'toyota_ Aygo': 1961, 'audi_ A3': 1929, 'vw_ Tiguan': 1765, 'skoda_ Fabia': 1571, 'skoda_ Octavia': 1477, 'audi_ Q3': 1417, 'audi_ A4': 1381, 'audi_ A1': 1347, 'Hyundai_ Tucson': 1300, 'BMW_ 2 Series': 1229, 'Ford_ EcoSport': 1143, 'Hyundai_ I10': 1092, 'BMW_ 5 Series': 1056, 'BMW_ 4 Series': 995, 'vw_ Passat': 915, 'vw_ Up': 884, 'audi_ A5': 882, 'audi_ Q5': 877, 'audi_ Q2': 822, 'BMW_ X1': 804, 'skoda_ Superb': 791, 'audi_ A6': 748, 'vw_ T-Roc': 733, 'toyota_ Auris': 712, 'BMW_ X3': 551, 'Ford_ C-MAX': 543, 'Hyundai_ I30': 536, 'Ford_ Ka+': 531, 'Ford_ Mondeo': 526, 'Hyundai_ I20': 496, 'toyota_ C-HR': 479, 'toyota_ RAV4': 473, 'skoda_ Kodiaq': 472, 'skoda_ Citigo': 470, 'BMW_ X5': 468, 'skoda_ Yeti Outdoor': 458, 'audi_ Q7': 397, 'skoda_ Karoq': 390, 'vw_ Touareg': 363, 'Ford_ B-MAX': 355, 'vw_ Touran': 352, 'audi_ TT': 336, 'Hyundai_ Kona': 328, 'vw_ T-Cross': 300, 'Ford_ S-MAX': 296, 'BMW_ X2': 288, 'Hyundai_ Ioniq': 284, 'vw_ Golf SV': 268, 'toyota_ Corolla': 267, 'vw_ Sharan': 260, 'vw_ Arteon': 248, 'Ford_ Grand C-MAX': 247, 'Hyundai_ Santa Fe': 245, 'vw_ Scirocco': 242, 'toyota_ Prius': 232, 'Ford_ Galaxy': 228, 'Ford_ Edge': 208, 'Hyundai_ IX20': 204, 'Ford_ KA': 199, 'skoda_ Scala': 192, 'BMW_ X4': 179, 'skoda_ Rapid': 152, 'skoda_ Kamiq': 141, 'skoda_ Yeti': 136, 'Hyundai_ I40': 127, 'BMW_ M4': 125, 'audi_ A7': 122, 'audi_ A8': 118, 'Hyundai_ IX35': 118, 'Hyundai_ I800': 117, 'toyota_ Avensis': 115, 'toyota_ Verso': 114, 'vw_ Amarok': 111, 'BMW_ 6 Series': 108, 'BMW_ Z4': 108, 'BMW_ 7 Series': 106, 'BMW_ X6': 106, 'vw_ Caravelle': 101, 'vw_ CC': 95, 'vw_ Tiguan Allspace': 91, 'toyota_ Hilux': 86, 'vw_ Beetle': 83, 'Ford_ Puma': 80, 'toyota_ GT86': 73, 'audi_ Q8': 69, 'Ford_ Tourneo Custom': 69, 'vw_ Shuttle': 61, 'Ford_ Grand Tourneo Connect': 59, 'vw_ Caddy Maxi Life': 59, 'Ford_ Mustang': 57, 'BMW_ X7': 55, 'toyota_ Land Cruiser': 51, 'BMW_ i3': 43, 'audi_ RS6': 39, 'BMW_ 8 Series': 39, 'audi_ RS3': 33, 'Ford_ Tourneo Connect': 33, 'vw_ Jetta': 32, 'audi_ RS4': 31, 'audi_ RS5': 29, 'BMW_ M5': 29, 'audi_ R8': 28, 'BMW_ M3': 27, 'BMW_ M2': 21, 'audi_ S3': 18, 'BMW_ i8': 17, 'skoda_ Roomster': 17, 'audi_ SQ5': 16, 'Ford_ Fusion': 16, 'vw_ California': 15, 'toyota_ PROACE VERSO': 15, 'audi_ S4': 12, 'toyota_ Supra': 12, 'toyota_ Camry': 11, 'audi_ SQ7': 8, 'BMW_ M6': 8, 'vw_ Caddy Life': 8, 'toyota_ IQ': 8, 'BMW_ Z3': 7, 'vw_ Eos': 7, 'vw_ Caddy': 6, 'Hyundai_ Getz': 6, 'audi_ S8': 4, 'vw_ Caddy Maxi': 4, 'vw_ Fox': 4, 'toyota_ Urban Cruiser': 4, 'audi_ S5': 3, 'toyota_ Verso-S': 3, 'Hyundai_ Veloster': 3, 'Ford_ Streetka': 2, 'Hyundai_ Terracan': 2, 'audi_ A2': 1, 'audi_ RS7': 1, 'Ford_ Ranger': 1, 'Ford_ Escort': 1, 'Ford_ Transit Tourneo': 1, 'Hyundai_ Accent': 1, 'Hyundai_ Amica': 1})\n",
      "Counter({'Manual': 43021, 'Semi-Auto': 15364, 'Automatic': 14046, 'Other': 4})\n",
      "Counter({'Petrol': 40370, 'Diesel': 28918, 'Hybrid': 2903, 'Other': 239, 'Electric': 5})\n"
     ]
    }
   ],
   "source": [
    "from collections import Counter\n",
    "\n",
    "print(Counter(cars[\"Make\"]))\n",
    "print(Counter((\"_\".join(model) for model in zip(cars[\"Make\"].to_list(), cars[\"model\"].to_list()))))\n",
    "print(Counter(cars[\"transmission\"]))\n",
    "print(Counter(cars[\"fuelType\"]))"
   ]
  },
  {
   "cell_type": "code",
   "execution_count": 7,
   "id": "identified-amendment",
   "metadata": {
    "execution": {
     "iopub.execute_input": "2021-05-10T22:39:24.622425Z",
     "iopub.status.busy": "2021-05-10T22:39:24.608497Z",
     "iopub.status.idle": "2021-05-10T22:39:25.966655Z",
     "shell.execute_reply": "2021-05-10T22:39:25.965704Z"
    },
    "id": "zpAOESjVEn0b",
    "outputId": "0b1bd68f-143a-4f18-90d4-cf2f5015b91c",
    "papermill": {
     "duration": 1.515463,
     "end_time": "2021-05-10T22:39:25.966802",
     "exception": false,
     "start_time": "2021-05-10T22:39:24.451339",
     "status": "completed"
    },
    "tags": []
   },
   "outputs": [
    {
     "data": {
      "image/png": "[encoded data removed]",
      "text/plain": [
       "<Figure size 864x720 with 5 Axes>"
      ]
     },
     "metadata": {
      "needs_background": "light"
     },
     "output_type": "display_data"
    }
   ],
   "source": [
    "plt.figure(figsize=(12, 10))\n",
    "plt.subplot(3, 2, 1)\n",
    "plt.scatter(cars[\"year\"], cars[\"price\"])\n",
    "plt.title(\"price vs year\")\n",
    "plt.subplot(3, 2, 2)\n",
    "plt.scatter(cars[\"mileage\"], cars[\"price\"])\n",
    "plt.title(\"price vs mileage\")\n",
    "plt.subplot(3, 2, 3)\n",
    "plt.scatter(cars[\"tax\"], cars[\"price\"])\n",
    "plt.title(\"price vs tax\")\n",
    "plt.subplot(3, 2, 4)\n",
    "plt.scatter(cars[\"mpg\"], cars[\"price\"])\n",
    "plt.title(\"price vs mpg\")\n",
    "plt.subplot(3, 2, 5)\n",
    "plt.scatter(cars[\"engineSize\"], cars[\"price\"])\n",
    "plt.title(\"price vs enginSize\")\n",
    "plt.show()"
   ]
  },
  {
   "cell_type": "code",
   "execution_count": 8,
   "id": "manual-topic",
   "metadata": {
    "execution": {
     "iopub.execute_input": "2021-05-10T22:39:26.036344Z",
     "iopub.status.busy": "2021-05-10T22:39:26.035404Z",
     "iopub.status.idle": "2021-05-10T22:39:26.091934Z",
     "shell.execute_reply": "2021-05-10T22:39:26.091261Z"
    },
    "id": "uxavTdENIC2J",
    "outputId": "cc88e79c-e36e-4716-d27f-43da9208368e",
    "papermill": {
     "duration": 0.092869,
     "end_time": "2021-05-10T22:39:26.092080",
     "exception": false,
     "start_time": "2021-05-10T22:39:25.999211",
     "status": "completed"
    },
    "tags": []
   },
   "outputs": [
    {
     "data": {
      "text/html": [
       "<div>\n",
       "<style scoped>\n",
       "    .dataframe tbody tr th:only-of-type {\n",
       "        vertical-align: middle;\n",
       "    }\n",
       "\n",
       "    .dataframe tbody tr th {\n",
       "        vertical-align: top;\n",
       "    }\n",
       "\n",
       "    .dataframe thead th {\n",
       "        text-align: right;\n",
       "    }\n",
       "</style>\n",
       "<table border=\"1\" class=\"dataframe\">\n",
       "  <thead>\n",
       "    <tr style=\"text-align: right;\">\n",
       "      <th></th>\n",
       "      <th>model</th>\n",
       "      <th>year</th>\n",
       "      <th>price</th>\n",
       "      <th>transmission</th>\n",
       "      <th>mileage</th>\n",
       "      <th>fuelType</th>\n",
       "      <th>tax</th>\n",
       "      <th>mpg</th>\n",
       "      <th>engineSize</th>\n",
       "      <th>Make</th>\n",
       "    </tr>\n",
       "  </thead>\n",
       "  <tbody>\n",
       "    <tr>\n",
       "      <th>10700</th>\n",
       "      <td>i3</td>\n",
       "      <td>2016</td>\n",
       "      <td>17100</td>\n",
       "      <td>Automatic</td>\n",
       "      <td>25269</td>\n",
       "      <td>Other</td>\n",
       "      <td>0.0</td>\n",
       "      <td>470.8</td>\n",
       "      <td>0.6</td>\n",
       "      <td>BMW</td>\n",
       "    </tr>\n",
       "    <tr>\n",
       "      <th>11289</th>\n",
       "      <td>i3</td>\n",
       "      <td>2017</td>\n",
       "      <td>19998</td>\n",
       "      <td>Automatic</td>\n",
       "      <td>41949</td>\n",
       "      <td>Hybrid</td>\n",
       "      <td>140.0</td>\n",
       "      <td>470.8</td>\n",
       "      <td>0.0</td>\n",
       "      <td>BMW</td>\n",
       "    </tr>\n",
       "    <tr>\n",
       "      <th>11446</th>\n",
       "      <td>i3</td>\n",
       "      <td>2017</td>\n",
       "      <td>19998</td>\n",
       "      <td>Automatic</td>\n",
       "      <td>41146</td>\n",
       "      <td>Hybrid</td>\n",
       "      <td>0.0</td>\n",
       "      <td>470.8</td>\n",
       "      <td>0.0</td>\n",
       "      <td>BMW</td>\n",
       "    </tr>\n",
       "    <tr>\n",
       "      <th>11448</th>\n",
       "      <td>i3</td>\n",
       "      <td>2017</td>\n",
       "      <td>21898</td>\n",
       "      <td>Automatic</td>\n",
       "      <td>10839</td>\n",
       "      <td>Hybrid</td>\n",
       "      <td>0.0</td>\n",
       "      <td>470.8</td>\n",
       "      <td>0.0</td>\n",
       "      <td>BMW</td>\n",
       "    </tr>\n",
       "    <tr>\n",
       "      <th>12534</th>\n",
       "      <td>i3</td>\n",
       "      <td>2017</td>\n",
       "      <td>19980</td>\n",
       "      <td>Automatic</td>\n",
       "      <td>26965</td>\n",
       "      <td>Hybrid</td>\n",
       "      <td>140.0</td>\n",
       "      <td>470.8</td>\n",
       "      <td>0.0</td>\n",
       "      <td>BMW</td>\n",
       "    </tr>\n",
       "    <tr>\n",
       "      <th>13020</th>\n",
       "      <td>i3</td>\n",
       "      <td>2016</td>\n",
       "      <td>19490</td>\n",
       "      <td>Automatic</td>\n",
       "      <td>8421</td>\n",
       "      <td>Hybrid</td>\n",
       "      <td>0.0</td>\n",
       "      <td>470.8</td>\n",
       "      <td>0.0</td>\n",
       "      <td>BMW</td>\n",
       "    </tr>\n",
       "    <tr>\n",
       "      <th>13945</th>\n",
       "      <td>i3</td>\n",
       "      <td>2016</td>\n",
       "      <td>16482</td>\n",
       "      <td>Automatic</td>\n",
       "      <td>43695</td>\n",
       "      <td>Hybrid</td>\n",
       "      <td>0.0</td>\n",
       "      <td>470.8</td>\n",
       "      <td>0.0</td>\n",
       "      <td>BMW</td>\n",
       "    </tr>\n",
       "    <tr>\n",
       "      <th>14296</th>\n",
       "      <td>i3</td>\n",
       "      <td>2015</td>\n",
       "      <td>14285</td>\n",
       "      <td>Automatic</td>\n",
       "      <td>65800</td>\n",
       "      <td>Hybrid</td>\n",
       "      <td>0.0</td>\n",
       "      <td>470.8</td>\n",
       "      <td>0.0</td>\n",
       "      <td>BMW</td>\n",
       "    </tr>\n",
       "    <tr>\n",
       "      <th>14581</th>\n",
       "      <td>i3</td>\n",
       "      <td>2017</td>\n",
       "      <td>18500</td>\n",
       "      <td>Automatic</td>\n",
       "      <td>36429</td>\n",
       "      <td>Hybrid</td>\n",
       "      <td>0.0</td>\n",
       "      <td>470.8</td>\n",
       "      <td>0.0</td>\n",
       "      <td>BMW</td>\n",
       "    </tr>\n",
       "    <tr>\n",
       "      <th>14768</th>\n",
       "      <td>i3</td>\n",
       "      <td>2017</td>\n",
       "      <td>19495</td>\n",
       "      <td>Automatic</td>\n",
       "      <td>17338</td>\n",
       "      <td>Hybrid</td>\n",
       "      <td>135.0</td>\n",
       "      <td>470.8</td>\n",
       "      <td>0.0</td>\n",
       "      <td>BMW</td>\n",
       "    </tr>\n",
       "    <tr>\n",
       "      <th>14777</th>\n",
       "      <td>i3</td>\n",
       "      <td>2015</td>\n",
       "      <td>17481</td>\n",
       "      <td>Automatic</td>\n",
       "      <td>9886</td>\n",
       "      <td>Hybrid</td>\n",
       "      <td>0.0</td>\n",
       "      <td>470.8</td>\n",
       "      <td>0.0</td>\n",
       "      <td>BMW</td>\n",
       "    </tr>\n",
       "    <tr>\n",
       "      <th>14879</th>\n",
       "      <td>i3</td>\n",
       "      <td>2015</td>\n",
       "      <td>15498</td>\n",
       "      <td>Automatic</td>\n",
       "      <td>33931</td>\n",
       "      <td>Hybrid</td>\n",
       "      <td>0.0</td>\n",
       "      <td>470.8</td>\n",
       "      <td>0.0</td>\n",
       "      <td>BMW</td>\n",
       "    </tr>\n",
       "    <tr>\n",
       "      <th>15417</th>\n",
       "      <td>i3</td>\n",
       "      <td>2014</td>\n",
       "      <td>15450</td>\n",
       "      <td>Automatic</td>\n",
       "      <td>42479</td>\n",
       "      <td>Hybrid</td>\n",
       "      <td>0.0</td>\n",
       "      <td>470.8</td>\n",
       "      <td>0.0</td>\n",
       "      <td>BMW</td>\n",
       "    </tr>\n",
       "    <tr>\n",
       "      <th>15534</th>\n",
       "      <td>i3</td>\n",
       "      <td>2014</td>\n",
       "      <td>14495</td>\n",
       "      <td>Automatic</td>\n",
       "      <td>34539</td>\n",
       "      <td>Hybrid</td>\n",
       "      <td>0.0</td>\n",
       "      <td>470.8</td>\n",
       "      <td>0.0</td>\n",
       "      <td>BMW</td>\n",
       "    </tr>\n",
       "    <tr>\n",
       "      <th>15844</th>\n",
       "      <td>i3</td>\n",
       "      <td>2017</td>\n",
       "      <td>21444</td>\n",
       "      <td>Automatic</td>\n",
       "      <td>22063</td>\n",
       "      <td>Hybrid</td>\n",
       "      <td>0.0</td>\n",
       "      <td>470.8</td>\n",
       "      <td>0.0</td>\n",
       "      <td>BMW</td>\n",
       "    </tr>\n",
       "    <tr>\n",
       "      <th>16170</th>\n",
       "      <td>i3</td>\n",
       "      <td>2017</td>\n",
       "      <td>18995</td>\n",
       "      <td>Automatic</td>\n",
       "      <td>33021</td>\n",
       "      <td>Hybrid</td>\n",
       "      <td>0.0</td>\n",
       "      <td>470.8</td>\n",
       "      <td>0.0</td>\n",
       "      <td>BMW</td>\n",
       "    </tr>\n",
       "    <tr>\n",
       "      <th>16288</th>\n",
       "      <td>i3</td>\n",
       "      <td>2017</td>\n",
       "      <td>21490</td>\n",
       "      <td>Automatic</td>\n",
       "      <td>26139</td>\n",
       "      <td>Hybrid</td>\n",
       "      <td>135.0</td>\n",
       "      <td>470.8</td>\n",
       "      <td>0.0</td>\n",
       "      <td>BMW</td>\n",
       "    </tr>\n",
       "    <tr>\n",
       "      <th>16413</th>\n",
       "      <td>i3</td>\n",
       "      <td>2017</td>\n",
       "      <td>19000</td>\n",
       "      <td>Automatic</td>\n",
       "      <td>23983</td>\n",
       "      <td>Hybrid</td>\n",
       "      <td>0.0</td>\n",
       "      <td>470.8</td>\n",
       "      <td>0.0</td>\n",
       "      <td>BMW</td>\n",
       "    </tr>\n",
       "    <tr>\n",
       "      <th>16458</th>\n",
       "      <td>i3</td>\n",
       "      <td>2014</td>\n",
       "      <td>14182</td>\n",
       "      <td>Automatic</td>\n",
       "      <td>37161</td>\n",
       "      <td>Hybrid</td>\n",
       "      <td>0.0</td>\n",
       "      <td>470.8</td>\n",
       "      <td>0.0</td>\n",
       "      <td>BMW</td>\n",
       "    </tr>\n",
       "    <tr>\n",
       "      <th>16514</th>\n",
       "      <td>i3</td>\n",
       "      <td>2017</td>\n",
       "      <td>21500</td>\n",
       "      <td>Automatic</td>\n",
       "      <td>10900</td>\n",
       "      <td>Hybrid</td>\n",
       "      <td>140.0</td>\n",
       "      <td>470.8</td>\n",
       "      <td>0.0</td>\n",
       "      <td>BMW</td>\n",
       "    </tr>\n",
       "    <tr>\n",
       "      <th>16738</th>\n",
       "      <td>i3</td>\n",
       "      <td>2017</td>\n",
       "      <td>23751</td>\n",
       "      <td>Automatic</td>\n",
       "      <td>28169</td>\n",
       "      <td>Hybrid</td>\n",
       "      <td>0.0</td>\n",
       "      <td>470.8</td>\n",
       "      <td>0.0</td>\n",
       "      <td>BMW</td>\n",
       "    </tr>\n",
       "    <tr>\n",
       "      <th>16948</th>\n",
       "      <td>i3</td>\n",
       "      <td>2017</td>\n",
       "      <td>22999</td>\n",
       "      <td>Automatic</td>\n",
       "      <td>3976</td>\n",
       "      <td>Hybrid</td>\n",
       "      <td>135.0</td>\n",
       "      <td>470.8</td>\n",
       "      <td>0.0</td>\n",
       "      <td>BMW</td>\n",
       "    </tr>\n",
       "    <tr>\n",
       "      <th>17482</th>\n",
       "      <td>i3</td>\n",
       "      <td>2017</td>\n",
       "      <td>21494</td>\n",
       "      <td>Automatic</td>\n",
       "      <td>16867</td>\n",
       "      <td>Hybrid</td>\n",
       "      <td>135.0</td>\n",
       "      <td>470.8</td>\n",
       "      <td>0.0</td>\n",
       "      <td>BMW</td>\n",
       "    </tr>\n",
       "    <tr>\n",
       "      <th>17542</th>\n",
       "      <td>i3</td>\n",
       "      <td>2016</td>\n",
       "      <td>15990</td>\n",
       "      <td>Automatic</td>\n",
       "      <td>68000</td>\n",
       "      <td>Hybrid</td>\n",
       "      <td>0.0</td>\n",
       "      <td>470.8</td>\n",
       "      <td>0.0</td>\n",
       "      <td>BMW</td>\n",
       "    </tr>\n",
       "    <tr>\n",
       "      <th>17544</th>\n",
       "      <td>i3</td>\n",
       "      <td>2016</td>\n",
       "      <td>14900</td>\n",
       "      <td>Automatic</td>\n",
       "      <td>59945</td>\n",
       "      <td>Hybrid</td>\n",
       "      <td>0.0</td>\n",
       "      <td>470.8</td>\n",
       "      <td>0.0</td>\n",
       "      <td>BMW</td>\n",
       "    </tr>\n",
       "    <tr>\n",
       "      <th>17629</th>\n",
       "      <td>i3</td>\n",
       "      <td>2017</td>\n",
       "      <td>20495</td>\n",
       "      <td>Automatic</td>\n",
       "      <td>20082</td>\n",
       "      <td>Hybrid</td>\n",
       "      <td>135.0</td>\n",
       "      <td>470.8</td>\n",
       "      <td>0.0</td>\n",
       "      <td>BMW</td>\n",
       "    </tr>\n",
       "    <tr>\n",
       "      <th>17715</th>\n",
       "      <td>i3</td>\n",
       "      <td>2017</td>\n",
       "      <td>19948</td>\n",
       "      <td>Automatic</td>\n",
       "      <td>20929</td>\n",
       "      <td>Hybrid</td>\n",
       "      <td>135.0</td>\n",
       "      <td>470.8</td>\n",
       "      <td>0.0</td>\n",
       "      <td>BMW</td>\n",
       "    </tr>\n",
       "    <tr>\n",
       "      <th>17752</th>\n",
       "      <td>i3</td>\n",
       "      <td>2017</td>\n",
       "      <td>22495</td>\n",
       "      <td>Automatic</td>\n",
       "      <td>21025</td>\n",
       "      <td>Hybrid</td>\n",
       "      <td>0.0</td>\n",
       "      <td>470.8</td>\n",
       "      <td>0.0</td>\n",
       "      <td>BMW</td>\n",
       "    </tr>\n",
       "    <tr>\n",
       "      <th>17922</th>\n",
       "      <td>i3</td>\n",
       "      <td>2016</td>\n",
       "      <td>19875</td>\n",
       "      <td>Automatic</td>\n",
       "      <td>20013</td>\n",
       "      <td>Hybrid</td>\n",
       "      <td>0.0</td>\n",
       "      <td>470.8</td>\n",
       "      <td>0.0</td>\n",
       "      <td>BMW</td>\n",
       "    </tr>\n",
       "    <tr>\n",
       "      <th>17967</th>\n",
       "      <td>i3</td>\n",
       "      <td>2017</td>\n",
       "      <td>21495</td>\n",
       "      <td>Automatic</td>\n",
       "      <td>24041</td>\n",
       "      <td>Hybrid</td>\n",
       "      <td>0.0</td>\n",
       "      <td>470.8</td>\n",
       "      <td>0.0</td>\n",
       "      <td>BMW</td>\n",
       "    </tr>\n",
       "    <tr>\n",
       "      <th>18015</th>\n",
       "      <td>i3</td>\n",
       "      <td>2017</td>\n",
       "      <td>19895</td>\n",
       "      <td>Automatic</td>\n",
       "      <td>29851</td>\n",
       "      <td>Hybrid</td>\n",
       "      <td>0.0</td>\n",
       "      <td>470.8</td>\n",
       "      <td>0.0</td>\n",
       "      <td>BMW</td>\n",
       "    </tr>\n",
       "    <tr>\n",
       "      <th>18464</th>\n",
       "      <td>i3</td>\n",
       "      <td>2016</td>\n",
       "      <td>19850</td>\n",
       "      <td>Automatic</td>\n",
       "      <td>19995</td>\n",
       "      <td>Hybrid</td>\n",
       "      <td>0.0</td>\n",
       "      <td>470.8</td>\n",
       "      <td>0.0</td>\n",
       "      <td>BMW</td>\n",
       "    </tr>\n",
       "    <tr>\n",
       "      <th>18856</th>\n",
       "      <td>i3</td>\n",
       "      <td>2015</td>\n",
       "      <td>14940</td>\n",
       "      <td>Automatic</td>\n",
       "      <td>59000</td>\n",
       "      <td>Other</td>\n",
       "      <td>0.0</td>\n",
       "      <td>470.8</td>\n",
       "      <td>0.6</td>\n",
       "      <td>BMW</td>\n",
       "    </tr>\n",
       "    <tr>\n",
       "      <th>19043</th>\n",
       "      <td>i3</td>\n",
       "      <td>2017</td>\n",
       "      <td>18999</td>\n",
       "      <td>Automatic</td>\n",
       "      <td>20321</td>\n",
       "      <td>Electric</td>\n",
       "      <td>135.0</td>\n",
       "      <td>470.8</td>\n",
       "      <td>0.0</td>\n",
       "      <td>BMW</td>\n",
       "    </tr>\n",
       "    <tr>\n",
       "      <th>19068</th>\n",
       "      <td>i3</td>\n",
       "      <td>2016</td>\n",
       "      <td>18999</td>\n",
       "      <td>Automatic</td>\n",
       "      <td>9990</td>\n",
       "      <td>Electric</td>\n",
       "      <td>0.0</td>\n",
       "      <td>470.8</td>\n",
       "      <td>0.0</td>\n",
       "      <td>BMW</td>\n",
       "    </tr>\n",
       "    <tr>\n",
       "      <th>19288</th>\n",
       "      <td>i3</td>\n",
       "      <td>2017</td>\n",
       "      <td>19300</td>\n",
       "      <td>Automatic</td>\n",
       "      <td>32867</td>\n",
       "      <td>Other</td>\n",
       "      <td>0.0</td>\n",
       "      <td>470.8</td>\n",
       "      <td>0.6</td>\n",
       "      <td>BMW</td>\n",
       "    </tr>\n",
       "    <tr>\n",
       "      <th>19503</th>\n",
       "      <td>i3</td>\n",
       "      <td>2015</td>\n",
       "      <td>17400</td>\n",
       "      <td>Automatic</td>\n",
       "      <td>29465</td>\n",
       "      <td>Electric</td>\n",
       "      <td>0.0</td>\n",
       "      <td>470.8</td>\n",
       "      <td>1.0</td>\n",
       "      <td>BMW</td>\n",
       "    </tr>\n",
       "    <tr>\n",
       "      <th>19927</th>\n",
       "      <td>i3</td>\n",
       "      <td>2015</td>\n",
       "      <td>12500</td>\n",
       "      <td>Automatic</td>\n",
       "      <td>79830</td>\n",
       "      <td>Hybrid</td>\n",
       "      <td>0.0</td>\n",
       "      <td>470.8</td>\n",
       "      <td>0.0</td>\n",
       "      <td>BMW</td>\n",
       "    </tr>\n",
       "    <tr>\n",
       "      <th>20592</th>\n",
       "      <td>i3</td>\n",
       "      <td>2016</td>\n",
       "      <td>16500</td>\n",
       "      <td>Automatic</td>\n",
       "      <td>35446</td>\n",
       "      <td>Hybrid</td>\n",
       "      <td>0.0</td>\n",
       "      <td>470.8</td>\n",
       "      <td>0.0</td>\n",
       "      <td>BMW</td>\n",
       "    </tr>\n",
       "    <tr>\n",
       "      <th>20748</th>\n",
       "      <td>i3</td>\n",
       "      <td>2017</td>\n",
       "      <td>20000</td>\n",
       "      <td>Automatic</td>\n",
       "      <td>19178</td>\n",
       "      <td>Other</td>\n",
       "      <td>0.0</td>\n",
       "      <td>470.8</td>\n",
       "      <td>0.6</td>\n",
       "      <td>BMW</td>\n",
       "    </tr>\n",
       "    <tr>\n",
       "      <th>20754</th>\n",
       "      <td>i3</td>\n",
       "      <td>2017</td>\n",
       "      <td>19500</td>\n",
       "      <td>Automatic</td>\n",
       "      <td>23956</td>\n",
       "      <td>Other</td>\n",
       "      <td>135.0</td>\n",
       "      <td>470.8</td>\n",
       "      <td>0.6</td>\n",
       "      <td>BMW</td>\n",
       "    </tr>\n",
       "    <tr>\n",
       "      <th>20993</th>\n",
       "      <td>i3</td>\n",
       "      <td>2016</td>\n",
       "      <td>17000</td>\n",
       "      <td>Automatic</td>\n",
       "      <td>41063</td>\n",
       "      <td>Other</td>\n",
       "      <td>0.0</td>\n",
       "      <td>470.8</td>\n",
       "      <td>0.6</td>\n",
       "      <td>BMW</td>\n",
       "    </tr>\n",
       "    <tr>\n",
       "      <th>21198</th>\n",
       "      <td>i3</td>\n",
       "      <td>2017</td>\n",
       "      <td>17600</td>\n",
       "      <td>Automatic</td>\n",
       "      <td>50867</td>\n",
       "      <td>Other</td>\n",
       "      <td>135.0</td>\n",
       "      <td>470.8</td>\n",
       "      <td>0.6</td>\n",
       "      <td>BMW</td>\n",
       "    </tr>\n",
       "  </tbody>\n",
       "</table>\n",
       "</div>"
      ],
      "text/plain": [
       "      model  year  price transmission  mileage  fuelType    tax    mpg  \\\n",
       "10700    i3  2016  17100    Automatic    25269     Other    0.0  470.8   \n",
       "11289    i3  2017  19998    Automatic    41949    Hybrid  140.0  470.8   \n",
       "11446    i3  2017  19998    Automatic    41146    Hybrid    0.0  470.8   \n",
       "11448    i3  2017  21898    Automatic    10839    Hybrid    0.0  470.8   \n",
       "12534    i3  2017  19980    Automatic    26965    Hybrid  140.0  470.8   \n",
       "13020    i3  2016  19490    Automatic     8421    Hybrid    0.0  470.8   \n",
       "13945    i3  2016  16482    Automatic    43695    Hybrid    0.0  470.8   \n",
       "14296    i3  2015  14285    Automatic    65800    Hybrid    0.0  470.8   \n",
       "14581    i3  2017  18500    Automatic    36429    Hybrid    0.0  470.8   \n",
       "14768    i3  2017  19495    Automatic    17338    Hybrid  135.0  470.8   \n",
       "14777    i3  2015  17481    Automatic     9886    Hybrid    0.0  470.8   \n",
       "14879    i3  2015  15498    Automatic    33931    Hybrid    0.0  470.8   \n",
       "15417    i3  2014  15450    Automatic    42479    Hybrid    0.0  470.8   \n",
       "15534    i3  2014  14495    Automatic    34539    Hybrid    0.0  470.8   \n",
       "15844    i3  2017  21444    Automatic    22063    Hybrid    0.0  470.8   \n",
       "16170    i3  2017  18995    Automatic    33021    Hybrid    0.0  470.8   \n",
       "16288    i3  2017  21490    Automatic    26139    Hybrid  135.0  470.8   \n",
       "16413    i3  2017  19000    Automatic    23983    Hybrid    0.0  470.8   \n",
       "16458    i3  2014  14182    Automatic    37161    Hybrid    0.0  470.8   \n",
       "16514    i3  2017  21500    Automatic    10900    Hybrid  140.0  470.8   \n",
       "16738    i3  2017  23751    Automatic    28169    Hybrid    0.0  470.8   \n",
       "16948    i3  2017  22999    Automatic     3976    Hybrid  135.0  470.8   \n",
       "17482    i3  2017  21494    Automatic    16867    Hybrid  135.0  470.8   \n",
       "17542    i3  2016  15990    Automatic    68000    Hybrid    0.0  470.8   \n",
       "17544    i3  2016  14900    Automatic    59945    Hybrid    0.0  470.8   \n",
       "17629    i3  2017  20495    Automatic    20082    Hybrid  135.0  470.8   \n",
       "17715    i3  2017  19948    Automatic    20929    Hybrid  135.0  470.8   \n",
       "17752    i3  2017  22495    Automatic    21025    Hybrid    0.0  470.8   \n",
       "17922    i3  2016  19875    Automatic    20013    Hybrid    0.0  470.8   \n",
       "17967    i3  2017  21495    Automatic    24041    Hybrid    0.0  470.8   \n",
       "18015    i3  2017  19895    Automatic    29851    Hybrid    0.0  470.8   \n",
       "18464    i3  2016  19850    Automatic    19995    Hybrid    0.0  470.8   \n",
       "18856    i3  2015  14940    Automatic    59000     Other    0.0  470.8   \n",
       "19043    i3  2017  18999    Automatic    20321  Electric  135.0  470.8   \n",
       "19068    i3  2016  18999    Automatic     9990  Electric    0.0  470.8   \n",
       "19288    i3  2017  19300    Automatic    32867     Other    0.0  470.8   \n",
       "19503    i3  2015  17400    Automatic    29465  Electric    0.0  470.8   \n",
       "19927    i3  2015  12500    Automatic    79830    Hybrid    0.0  470.8   \n",
       "20592    i3  2016  16500    Automatic    35446    Hybrid    0.0  470.8   \n",
       "20748    i3  2017  20000    Automatic    19178     Other    0.0  470.8   \n",
       "20754    i3  2017  19500    Automatic    23956     Other  135.0  470.8   \n",
       "20993    i3  2016  17000    Automatic    41063     Other    0.0  470.8   \n",
       "21198    i3  2017  17600    Automatic    50867     Other  135.0  470.8   \n",
       "\n",
       "       engineSize Make  \n",
       "10700         0.6  BMW  \n",
       "11289         0.0  BMW  \n",
       "11446         0.0  BMW  \n",
       "11448         0.0  BMW  \n",
       "12534         0.0  BMW  \n",
       "13020         0.0  BMW  \n",
       "13945         0.0  BMW  \n",
       "14296         0.0  BMW  \n",
       "14581         0.0  BMW  \n",
       "14768         0.0  BMW  \n",
       "14777         0.0  BMW  \n",
       "14879         0.0  BMW  \n",
       "15417         0.0  BMW  \n",
       "15534         0.0  BMW  \n",
       "15844         0.0  BMW  \n",
       "16170         0.0  BMW  \n",
       "16288         0.0  BMW  \n",
       "16413         0.0  BMW  \n",
       "16458         0.0  BMW  \n",
       "16514         0.0  BMW  \n",
       "16738         0.0  BMW  \n",
       "16948         0.0  BMW  \n",
       "17482         0.0  BMW  \n",
       "17542         0.0  BMW  \n",
       "17544         0.0  BMW  \n",
       "17629         0.0  BMW  \n",
       "17715         0.0  BMW  \n",
       "17752         0.0  BMW  \n",
       "17922         0.0  BMW  \n",
       "17967         0.0  BMW  \n",
       "18015         0.0  BMW  \n",
       "18464         0.0  BMW  \n",
       "18856         0.6  BMW  \n",
       "19043         0.0  BMW  \n",
       "19068         0.0  BMW  \n",
       "19288         0.6  BMW  \n",
       "19503         1.0  BMW  \n",
       "19927         0.0  BMW  \n",
       "20592         0.0  BMW  \n",
       "20748         0.6  BMW  \n",
       "20754         0.6  BMW  \n",
       "20993         0.6  BMW  \n",
       "21198         0.6  BMW  "
      ]
     },
     "execution_count": 8,
     "metadata": {},
     "output_type": "execute_result"
    }
   ],
   "source": [
    "cars[cars[\"mpg\"] > 400]"
   ]
  },
  {
   "cell_type": "code",
   "execution_count": 9,
   "id": "informative-florence",
   "metadata": {
    "execution": {
     "iopub.execute_input": "2021-05-10T22:39:26.188795Z",
     "iopub.status.busy": "2021-05-10T22:39:26.188107Z",
     "iopub.status.idle": "2021-05-10T22:39:26.905177Z",
     "shell.execute_reply": "2021-05-10T22:39:26.904535Z"
    },
    "id": "UU4Awc_H03Ab",
    "outputId": "b657d1fc-f24b-46ec-e1b6-5f4dc2bb69c2",
    "papermill": {
     "duration": 0.777122,
     "end_time": "2021-05-10T22:39:26.905322",
     "exception": false,
     "start_time": "2021-05-10T22:39:26.128200",
     "status": "completed"
    },
    "tags": []
   },
   "outputs": [
    {
     "data": {
      "image/png": "[encoded data removed]",
      "text/plain": [
       "<Figure size 864x324 with 1 Axes>"
      ]
     },
     "metadata": {
      "needs_background": "light"
     },
     "output_type": "display_data"
    }
   ],
   "source": [
    "plt.figure(figsize=(12, 4.5))\n",
    "sns.violinplot(x=\"Make\", y=\"price\", data=cars)\n",
    "plt.show()"
   ]
  },
  {
   "cell_type": "code",
   "execution_count": 10,
   "id": "formed-israeli",
   "metadata": {
    "execution": {
     "iopub.execute_input": "2021-05-10T22:39:27.012323Z",
     "iopub.status.busy": "2021-05-10T22:39:27.011122Z",
     "iopub.status.idle": "2021-05-10T22:39:28.207813Z",
     "shell.execute_reply": "2021-05-10T22:39:28.207282Z"
    },
    "id": "kIVWIGwC0C1H",
    "outputId": "f70fd849-0ed3-4632-985f-d1d0e1bd77f1",
    "papermill": {
     "duration": 1.267682,
     "end_time": "2021-05-10T22:39:28.207953",
     "exception": false,
     "start_time": "2021-05-10T22:39:26.940271",
     "status": "completed"
    },
    "tags": []
   },
   "outputs": [
    {
     "data": {
      "image/png": "[encoded data removed]",
      "text/plain": [
       "<Figure size 864x324 with 2 Axes>"
      ]
     },
     "metadata": {
      "needs_background": "light"
     },
     "output_type": "display_data"
    }
   ],
   "source": [
    "plt.figure(figsize=(12, 4.5))\n",
    "plt.subplot(1,2,1)\n",
    "sns.violinplot(x=\"transmission\", y=\"price\", data=cars)\n",
    "plt.subplot(1,2,2)\n",
    "sns.violinplot(x=\"fuelType\", y=\"price\", data=cars)\n",
    "plt.show()"
   ]
  },
  {
   "cell_type": "markdown",
   "id": "quiet-perception",
   "metadata": {
    "id": "ww-qcML5DNRU",
    "papermill": {
     "duration": 0.035115,
     "end_time": "2021-05-10T22:39:28.278675",
     "exception": false,
     "start_time": "2021-05-10T22:39:28.243560",
     "status": "completed"
    },
    "tags": []
   },
   "source": [
    "# Preprocessing and Feature Engineering\n",
    "\"model\" varies too much and \"mpg\" makes no sence for electric and hybrid cars, drop these columns:"
   ]
  },
  {
   "cell_type": "code",
   "execution_count": 11,
   "id": "demographic-determination",
   "metadata": {
    "execution": {
     "iopub.execute_input": "2021-05-10T22:39:28.359586Z",
     "iopub.status.busy": "2021-05-10T22:39:28.355487Z",
     "iopub.status.idle": "2021-05-10T22:39:28.361969Z",
     "shell.execute_reply": "2021-05-10T22:39:28.362430Z"
    },
    "id": "086f_JTICuI3",
    "papermill": {
     "duration": 0.047891,
     "end_time": "2021-05-10T22:39:28.362597",
     "exception": false,
     "start_time": "2021-05-10T22:39:28.314706",
     "status": "completed"
    },
    "tags": []
   },
   "outputs": [],
   "source": [
    "cars.drop(columns=[\"mpg\", \"model\"], inplace=True)"
   ]
  },
  {
   "cell_type": "markdown",
   "id": "durable-airplane",
   "metadata": {
    "id": "XN3ziISqD9Rt",
    "papermill": {
     "duration": 0.035231,
     "end_time": "2021-05-10T22:39:28.433693",
     "exception": false,
     "start_time": "2021-05-10T22:39:28.398462",
     "status": "completed"
    },
    "tags": []
   },
   "source": [
    "use log-transformation to make the data not so skewed:"
   ]
  },
  {
   "cell_type": "code",
   "execution_count": 12,
   "id": "stainless-sound",
   "metadata": {
    "execution": {
     "iopub.execute_input": "2021-05-10T22:39:28.511488Z",
     "iopub.status.busy": "2021-05-10T22:39:28.510836Z",
     "iopub.status.idle": "2021-05-10T22:39:29.237561Z",
     "shell.execute_reply": "2021-05-10T22:39:29.237009Z"
    },
    "id": "2wXyfjBAJFJl",
    "outputId": "9520a31b-2664-48d6-a254-8829dd27ae4b",
    "papermill": {
     "duration": 0.76808,
     "end_time": "2021-05-10T22:39:29.237695",
     "exception": false,
     "start_time": "2021-05-10T22:39:28.469615",
     "status": "completed"
    },
    "tags": []
   },
   "outputs": [
    {
     "data": {
      "image/png": "[encoded data removed]",
      "text/plain": [
       "<Figure size 864x648 with 4 Axes>"
      ]
     },
     "metadata": {
      "needs_background": "light"
     },
     "output_type": "display_data"
    }
   ],
   "source": [
    "cars[\"log_price\"] = cars[\"price\"].apply(np.log)\n",
    "cars[\"log_timelength\"] = cars[\"year\"].apply(lambda x: np.log(2022 - x))\n",
    "cars[\"log_mileage\"] = cars[\"mileage\"].apply(np.log)\n",
    "\n",
    "cars[[\"log_price\", \"log_timelength\", \"log_mileage\"]].hist(figsize=(12, 9))\n",
    "plt.show()"
   ]
  },
  {
   "cell_type": "code",
   "execution_count": 13,
   "id": "dried-bottom",
   "metadata": {
    "execution": {
     "iopub.execute_input": "2021-05-10T22:39:29.345091Z",
     "iopub.status.busy": "2021-05-10T22:39:29.344434Z",
     "iopub.status.idle": "2021-05-10T22:39:30.414767Z",
     "shell.execute_reply": "2021-05-10T22:39:30.413857Z"
    },
    "id": "ZTusbm_kEmqS",
    "outputId": "2622f236-dd80-41c6-da4b-81e207e7077b",
    "papermill": {
     "duration": 1.14034,
     "end_time": "2021-05-10T22:39:30.414907",
     "exception": false,
     "start_time": "2021-05-10T22:39:29.274567",
     "status": "completed"
    },
    "tags": []
   },
   "outputs": [
    {
     "data": {
      "image/png": "[encoded data removed]",
      "text/plain": [
       "<Figure size 864x648 with 4 Axes>"
      ]
     },
     "metadata": {
      "needs_background": "light"
     },
     "output_type": "display_data"
    }
   ],
   "source": [
    "plt.figure(figsize=(12, 9))\n",
    "plt.subplot(2, 2, 1)\n",
    "plt.scatter(cars[\"log_timelength\"], cars[\"log_price\"])\n",
    "plt.title(\"log(price) vs log(2022 - year)\")\n",
    "plt.subplot(2, 2, 2)\n",
    "plt.scatter(cars[\"log_mileage\"], cars[\"log_price\"])\n",
    "plt.title(\"log(price) vs log(mileage)\")\n",
    "plt.subplot(2, 2, 3)\n",
    "plt.scatter(cars[\"tax\"], cars[\"log_price\"])\n",
    "plt.title(\"log(price) vs tax\")\n",
    "plt.subplot(2, 2, 4)\n",
    "plt.scatter(cars[\"engineSize\"], cars[\"log_price\"])\n",
    "plt.title(\"log(price) vs engineSize\")\n",
    "plt.show()"
   ]
  },
  {
   "cell_type": "code",
   "execution_count": 14,
   "id": "single-column",
   "metadata": {
    "execution": {
     "iopub.execute_input": "2021-05-10T22:39:30.503357Z",
     "iopub.status.busy": "2021-05-10T22:39:30.502645Z",
     "iopub.status.idle": "2021-05-10T22:39:30.851413Z",
     "shell.execute_reply": "2021-05-10T22:39:30.850561Z"
    },
    "id": "oYymX_wNFnAG",
    "outputId": "c11450e5-fc28-443e-cdba-f1b2b090f17b",
    "papermill": {
     "duration": 0.397062,
     "end_time": "2021-05-10T22:39:30.851557",
     "exception": false,
     "start_time": "2021-05-10T22:39:30.454495",
     "status": "completed"
    },
    "tags": []
   },
   "outputs": [
    {
     "data": {
      "image/png": "[encoded data removed]",
      "text/plain": [
       "<Figure size 576x432 with 2 Axes>"
      ]
     },
     "metadata": {
      "needs_background": "light"
     },
     "output_type": "display_data"
    }
   ],
   "source": [
    "plt.show()\n",
    "plt.figure(figsize=(8, 6))\n",
    "correlations = cars[[\"log_price\", \"log_timelength\", \"log_mileage\", \"tax\", \"engineSize\"]].corr().round(2)\n",
    "mask = np.triu(np.ones_like(correlations))\n",
    "sns.heatmap(data=correlations, mask=mask, square=True, linewidths=0.5, annot=True)\n",
    "plt.show()"
   ]
  },
  {
   "cell_type": "markdown",
   "id": "graduate-cabinet",
   "metadata": {
    "id": "Y4nDLWduknWj",
    "papermill": {
     "duration": 0.039784,
     "end_time": "2021-05-10T22:39:30.932309",
     "exception": false,
     "start_time": "2021-05-10T22:39:30.892525",
     "status": "completed"
    },
    "tags": []
   },
   "source": [
    "Convert categorical attributes to dummies:"
   ]
  },
  {
   "cell_type": "code",
   "execution_count": 15,
   "id": "civilian-complexity",
   "metadata": {
    "execution": {
     "iopub.execute_input": "2021-05-10T22:39:31.026046Z",
     "iopub.status.busy": "2021-05-10T22:39:31.025317Z",
     "iopub.status.idle": "2021-05-10T22:39:31.081024Z",
     "shell.execute_reply": "2021-05-10T22:39:31.081545Z"
    },
    "id": "vui7dGG0JVNM",
    "outputId": "47c0a011-b341-4e45-aa46-d67c26a8184a",
    "papermill": {
     "duration": 0.108739,
     "end_time": "2021-05-10T22:39:31.081731",
     "exception": false,
     "start_time": "2021-05-10T22:39:30.972992",
     "status": "completed"
    },
    "tags": []
   },
   "outputs": [
    {
     "data": {
      "text/html": [
       "<div>\n",
       "<style scoped>\n",
       "    .dataframe tbody tr th:only-of-type {\n",
       "        vertical-align: middle;\n",
       "    }\n",
       "\n",
       "    .dataframe tbody tr th {\n",
       "        vertical-align: top;\n",
       "    }\n",
       "\n",
       "    .dataframe thead th {\n",
       "        text-align: right;\n",
       "    }\n",
       "</style>\n",
       "<table border=\"1\" class=\"dataframe\">\n",
       "  <thead>\n",
       "    <tr style=\"text-align: right;\">\n",
       "      <th></th>\n",
       "      <th>tax</th>\n",
       "      <th>engineSize</th>\n",
       "      <th>log_price</th>\n",
       "      <th>log_timelength</th>\n",
       "      <th>log_mileage</th>\n",
       "      <th>Make_Ford</th>\n",
       "      <th>Make_Hyundai</th>\n",
       "      <th>Make_audi</th>\n",
       "      <th>Make_skoda</th>\n",
       "      <th>Make_toyota</th>\n",
       "      <th>Make_vw</th>\n",
       "      <th>transmission_Automatic</th>\n",
       "      <th>transmission_Manual</th>\n",
       "      <th>transmission_Semi-Auto</th>\n",
       "      <th>fuel_Diesel</th>\n",
       "      <th>fuel_Electric</th>\n",
       "      <th>fuel_Hybrid</th>\n",
       "      <th>fuel_Petrol</th>\n",
       "    </tr>\n",
       "  </thead>\n",
       "  <tbody>\n",
       "    <tr>\n",
       "      <th>0</th>\n",
       "      <td>150.0</td>\n",
       "      <td>1.4</td>\n",
       "      <td>9.433484</td>\n",
       "      <td>1.609438</td>\n",
       "      <td>9.663643</td>\n",
       "      <td>0</td>\n",
       "      <td>0</td>\n",
       "      <td>1</td>\n",
       "      <td>0</td>\n",
       "      <td>0</td>\n",
       "      <td>0</td>\n",
       "      <td>0</td>\n",
       "      <td>1</td>\n",
       "      <td>0</td>\n",
       "      <td>0</td>\n",
       "      <td>0</td>\n",
       "      <td>0</td>\n",
       "      <td>1</td>\n",
       "    </tr>\n",
       "    <tr>\n",
       "      <th>1</th>\n",
       "      <td>20.0</td>\n",
       "      <td>2.0</td>\n",
       "      <td>9.711116</td>\n",
       "      <td>1.791759</td>\n",
       "      <td>10.496897</td>\n",
       "      <td>0</td>\n",
       "      <td>0</td>\n",
       "      <td>1</td>\n",
       "      <td>0</td>\n",
       "      <td>0</td>\n",
       "      <td>0</td>\n",
       "      <td>1</td>\n",
       "      <td>0</td>\n",
       "      <td>0</td>\n",
       "      <td>1</td>\n",
       "      <td>0</td>\n",
       "      <td>0</td>\n",
       "      <td>0</td>\n",
       "    </tr>\n",
       "    <tr>\n",
       "      <th>2</th>\n",
       "      <td>30.0</td>\n",
       "      <td>1.4</td>\n",
       "      <td>9.305651</td>\n",
       "      <td>1.791759</td>\n",
       "      <td>10.307151</td>\n",
       "      <td>0</td>\n",
       "      <td>0</td>\n",
       "      <td>1</td>\n",
       "      <td>0</td>\n",
       "      <td>0</td>\n",
       "      <td>0</td>\n",
       "      <td>0</td>\n",
       "      <td>1</td>\n",
       "      <td>0</td>\n",
       "      <td>0</td>\n",
       "      <td>0</td>\n",
       "      <td>0</td>\n",
       "      <td>1</td>\n",
       "    </tr>\n",
       "    <tr>\n",
       "      <th>3</th>\n",
       "      <td>145.0</td>\n",
       "      <td>2.0</td>\n",
       "      <td>9.729134</td>\n",
       "      <td>1.609438</td>\n",
       "      <td>10.164004</td>\n",
       "      <td>0</td>\n",
       "      <td>0</td>\n",
       "      <td>1</td>\n",
       "      <td>0</td>\n",
       "      <td>0</td>\n",
       "      <td>0</td>\n",
       "      <td>1</td>\n",
       "      <td>0</td>\n",
       "      <td>0</td>\n",
       "      <td>1</td>\n",
       "      <td>0</td>\n",
       "      <td>0</td>\n",
       "      <td>0</td>\n",
       "    </tr>\n",
       "    <tr>\n",
       "      <th>4</th>\n",
       "      <td>145.0</td>\n",
       "      <td>1.0</td>\n",
       "      <td>9.758462</td>\n",
       "      <td>1.098612</td>\n",
       "      <td>7.599902</td>\n",
       "      <td>0</td>\n",
       "      <td>0</td>\n",
       "      <td>1</td>\n",
       "      <td>0</td>\n",
       "      <td>0</td>\n",
       "      <td>0</td>\n",
       "      <td>0</td>\n",
       "      <td>1</td>\n",
       "      <td>0</td>\n",
       "      <td>0</td>\n",
       "      <td>0</td>\n",
       "      <td>0</td>\n",
       "      <td>1</td>\n",
       "    </tr>\n",
       "  </tbody>\n",
       "</table>\n",
       "</div>"
      ],
      "text/plain": [
       "     tax  engineSize  log_price  log_timelength  log_mileage  Make_Ford  \\\n",
       "0  150.0         1.4   9.433484        1.609438     9.663643          0   \n",
       "1   20.0         2.0   9.711116        1.791759    10.496897          0   \n",
       "2   30.0         1.4   9.305651        1.791759    10.307151          0   \n",
       "3  145.0         2.0   9.729134        1.609438    10.164004          0   \n",
       "4  145.0         1.0   9.758462        1.098612     7.599902          0   \n",
       "\n",
       "   Make_Hyundai  Make_audi  Make_skoda  Make_toyota  Make_vw  \\\n",
       "0             0          1           0            0        0   \n",
       "1             0          1           0            0        0   \n",
       "2             0          1           0            0        0   \n",
       "3             0          1           0            0        0   \n",
       "4             0          1           0            0        0   \n",
       "\n",
       "   transmission_Automatic  transmission_Manual  transmission_Semi-Auto  \\\n",
       "0                       0                    1                       0   \n",
       "1                       1                    0                       0   \n",
       "2                       0                    1                       0   \n",
       "3                       1                    0                       0   \n",
       "4                       0                    1                       0   \n",
       "\n",
       "   fuel_Diesel  fuel_Electric  fuel_Hybrid  fuel_Petrol  \n",
       "0            0              0            0            1  \n",
       "1            1              0            0            0  \n",
       "2            0              0            0            1  \n",
       "3            1              0            0            0  \n",
       "4            0              0            0            1  "
      ]
     },
     "execution_count": 15,
     "metadata": {},
     "output_type": "execute_result"
    }
   ],
   "source": [
    "dummy_Make = pd.get_dummies(cars[\"Make\"], prefix=\"Make\")\n",
    "dummy_transmission = pd.get_dummies(cars[\"transmission\"], prefix=\"transmission\")\n",
    "dummy_fuel = pd.get_dummies(cars[\"fuelType\"], prefix=\"fuel\")\n",
    "cars_new = cars.drop(columns=[\"Make\", \"transmission\", \"fuelType\", \"price\", \"year\", \"mileage\"]) \\\n",
    "  .join(dummy_Make.iloc[:, 1:]) \\\n",
    "  .join(dummy_transmission.drop(columns=[\"transmission_Other\"])) \\\n",
    "  .join(dummy_fuel.drop(columns=[\"fuel_Other\"]))\n",
    "cars_new.head()"
   ]
  },
  {
   "cell_type": "markdown",
   "id": "seasonal-government",
   "metadata": {
    "id": "b3acql-ImquG",
    "papermill": {
     "duration": 0.045383,
     "end_time": "2021-05-10T22:39:31.172899",
     "exception": false,
     "start_time": "2021-05-10T22:39:31.127516",
     "status": "completed"
    },
    "tags": []
   },
   "source": [
    "# Model Selection"
   ]
  },
  {
   "cell_type": "code",
   "execution_count": 16,
   "id": "changing-rachel",
   "metadata": {
    "execution": {
     "iopub.execute_input": "2021-05-10T22:39:31.269247Z",
     "iopub.status.busy": "2021-05-10T22:39:31.268222Z",
     "iopub.status.idle": "2021-05-10T22:39:31.617964Z",
     "shell.execute_reply": "2021-05-10T22:39:31.617253Z"
    },
    "id": "9HfoJvz0mUFT",
    "papermill": {
     "duration": 0.398443,
     "end_time": "2021-05-10T22:39:31.618102",
     "exception": false,
     "start_time": "2021-05-10T22:39:31.219659",
     "status": "completed"
    },
    "tags": []
   },
   "outputs": [],
   "source": [
    "from sklearn.model_selection import train_test_split\n",
    "from sklearn.metrics import r2_score\n",
    "\n",
    "X = cars_new.drop(columns=\"log_price\")\n",
    "y = cars_new[\"log_price\"]\n",
    "X_train, X_test, y_train, y_test = train_test_split(X, y, test_size=0.2, random_state=12345)"
   ]
  },
  {
   "cell_type": "markdown",
   "id": "blocked-precipitation",
   "metadata": {
    "id": "LgSYS1oavUHz",
    "papermill": {
     "duration": 0.040418,
     "end_time": "2021-05-10T22:39:31.699335",
     "exception": false,
     "start_time": "2021-05-10T22:39:31.658917",
     "status": "completed"
    },
    "tags": []
   },
   "source": [
    "## Base model: Simple multiple linear regression\n",
    "Reference: https://scikit-learn.org/stable/modules/generated/sklearn.linear_model.LinearRegression.html"
   ]
  },
  {
   "cell_type": "code",
   "execution_count": 17,
   "id": "random-cabin",
   "metadata": {
    "execution": {
     "iopub.execute_input": "2021-05-10T22:39:31.783839Z",
     "iopub.status.busy": "2021-05-10T22:39:31.783244Z",
     "iopub.status.idle": "2021-05-10T22:39:32.235655Z",
     "shell.execute_reply": "2021-05-10T22:39:32.235137Z"
    },
    "id": "5Y77ftMcn_Rf",
    "outputId": "610118fa-2bc3-4e4c-96f3-cafe2d06cb96",
    "papermill": {
     "duration": 0.495777,
     "end_time": "2021-05-10T22:39:32.235785",
     "exception": false,
     "start_time": "2021-05-10T22:39:31.740008",
     "status": "completed"
    },
    "tags": []
   },
   "outputs": [
    {
     "data": {
      "image/png": "[encoded data removed]",
      "text/plain": [
       "<Figure size 576x432 with 1 Axes>"
      ]
     },
     "metadata": {
      "needs_background": "light"
     },
     "output_type": "display_data"
    }
   ],
   "source": [
    "from sklearn.linear_model import LinearRegression\n",
    "\n",
    "lr = LinearRegression()\n",
    "lr.fit(X_train, y_train)\n",
    "\n",
    "coef = pd.Series(lr.coef_, index=X.columns).sort_values(ascending=False)\n",
    "plt.figure(figsize=(8, 6))\n",
    "plt.bar(coef.index, coef)\n",
    "plt.grid()\n",
    "plt.title(\"Coefficients\")\n",
    "plt.xticks(rotation=-90)\n",
    "plt.show()"
   ]
  },
  {
   "cell_type": "code",
   "execution_count": 18,
   "id": "greenhouse-appointment",
   "metadata": {
    "execution": {
     "iopub.execute_input": "2021-05-10T22:39:32.333330Z",
     "iopub.status.busy": "2021-05-10T22:39:32.332035Z",
     "iopub.status.idle": "2021-05-10T22:39:32.339283Z",
     "shell.execute_reply": "2021-05-10T22:39:32.340118Z"
    },
    "id": "vF57Ch17vxJ3",
    "outputId": "1a014d84-8e42-43a0-af2a-8673f9ca3454",
    "papermill": {
     "duration": 0.063073,
     "end_time": "2021-05-10T22:39:32.340442",
     "exception": false,
     "start_time": "2021-05-10T22:39:32.277369",
     "status": "completed"
    },
    "tags": []
   },
   "outputs": [
    {
     "data": {
      "text/plain": [
       "0.8096881173496928"
      ]
     },
     "execution_count": 18,
     "metadata": {},
     "output_type": "execute_result"
    }
   ],
   "source": [
    "y_pred = lr.predict(X_test)\n",
    "r2_score(np.exp(y_test), np.exp(y_pred))"
   ]
  },
  {
   "cell_type": "markdown",
   "id": "romantic-transport",
   "metadata": {
    "id": "DTL4HNxV4BvH",
    "papermill": {
     "duration": 0.06174,
     "end_time": "2021-05-10T22:39:32.487602",
     "exception": false,
     "start_time": "2021-05-10T22:39:32.425862",
     "status": "completed"
    },
    "tags": []
   },
   "source": [
    "## Optimization: Lasso linear regression (variable selection)\n",
    "Reference: https://scikit-learn.org/stable/modules/generated/sklearn.linear_model.Lasso.html"
   ]
  },
  {
   "cell_type": "code",
   "execution_count": 19,
   "id": "specialized-collar",
   "metadata": {
    "execution": {
     "iopub.execute_input": "2021-05-10T22:39:32.583117Z",
     "iopub.status.busy": "2021-05-10T22:39:32.581887Z",
     "iopub.status.idle": "2021-05-10T22:39:40.493040Z",
     "shell.execute_reply": "2021-05-10T22:39:40.492146Z"
    },
    "id": "FXmCkLFzwIOR",
    "outputId": "66ed4705-f865-44d3-d679-2243889f2e97",
    "papermill": {
     "duration": 7.963162,
     "end_time": "2021-05-10T22:39:40.493205",
     "exception": false,
     "start_time": "2021-05-10T22:39:32.530043",
     "status": "completed"
    },
    "tags": []
   },
   "outputs": [
    {
     "data": {
      "image/png": "[encoded data removed]",
      "text/plain": [
       "<Figure size 576x432 with 1 Axes>"
      ]
     },
     "metadata": {
      "needs_background": "light"
     },
     "output_type": "display_data"
    }
   ],
   "source": [
    "from sklearn.linear_model import Lasso\n",
    "\n",
    "alphas = np.linspace(0.00005, 0.005, 100)\n",
    "r2s = []\n",
    "for alpha in alphas:\n",
    "    lasso = Lasso(alpha=alpha)\n",
    "    lasso.fit(X_train, y_train)\n",
    "    y_pred = lasso.predict(X_test)\n",
    "    r2s.append(r2_score(np.exp(y_test), np.exp(y_pred)))\n",
    "\n",
    "i = np.argmax(r2s)\n",
    "plt.figure(figsize=(8, 6))\n",
    "plt.plot(alphas, r2s)\n",
    "plt.plot([alphas[i]], r2s[i], \"ro\")\n",
    "plt.grid()\n",
    "plt.title(\"R2 vs alpha\")\n",
    "plt.show()"
   ]
  },
  {
   "cell_type": "code",
   "execution_count": 20,
   "id": "flexible-silly",
   "metadata": {
    "execution": {
     "iopub.execute_input": "2021-05-10T22:39:40.595166Z",
     "iopub.status.busy": "2021-05-10T22:39:40.594431Z",
     "iopub.status.idle": "2021-05-10T22:39:40.900394Z",
     "shell.execute_reply": "2021-05-10T22:39:40.900923Z"
    },
    "id": "0qasKyffwc1E",
    "outputId": "2cb6421a-d64b-4593-e4c1-37bdf9fbdf34",
    "papermill": {
     "duration": 0.362966,
     "end_time": "2021-05-10T22:39:40.901109",
     "exception": false,
     "start_time": "2021-05-10T22:39:40.538143",
     "status": "completed"
    },
    "tags": []
   },
   "outputs": [
    {
     "name": "stdout",
     "output_type": "stream",
     "text": [
      "alpha used: 0.00135\n",
      "Features dropped: ['Make_vw', 'transmission_Automatic', 'transmission_Semi-Auto', 'fuel_Diesel', 'fuel_Electric', 'fuel_Petrol']\n"
     ]
    },
    {
     "data": {
      "image/png": "[encoded data removed]",
      "text/plain": [
       "<Figure size 576x432 with 1 Axes>"
      ]
     },
     "metadata": {
      "needs_background": "light"
     },
     "output_type": "display_data"
    }
   ],
   "source": [
    "print(\"alpha used:\", alphas[i])\n",
    "lasso = Lasso(alpha=alphas[i])\n",
    "lasso.fit(X_train, y_train)\n",
    "\n",
    "coef = pd.Series(lasso.coef_, index=X.columns)\n",
    "print(\"Features dropped:\", coef[coef == 0.0].index.to_list())\n",
    "coef = coef[coef != 0.0].sort_values(ascending=False)\n",
    "plt.figure(figsize=(8, 6))\n",
    "plt.bar(coef.index, coef)\n",
    "plt.grid()\n",
    "plt.title(\"Coefficients\")\n",
    "plt.xticks(rotation=-90)\n",
    "plt.show()"
   ]
  },
  {
   "cell_type": "code",
   "execution_count": 21,
   "id": "prescribed-ownership",
   "metadata": {
    "execution": {
     "iopub.execute_input": "2021-05-10T22:39:40.994904Z",
     "iopub.status.busy": "2021-05-10T22:39:40.994245Z",
     "iopub.status.idle": "2021-05-10T22:39:41.011284Z",
     "shell.execute_reply": "2021-05-10T22:39:41.010254Z"
    },
    "id": "FWSEP0xE4yIn",
    "outputId": "1e943569-8d02-4bca-d288-04e17552a53b",
    "papermill": {
     "duration": 0.06512,
     "end_time": "2021-05-10T22:39:41.011518",
     "exception": false,
     "start_time": "2021-05-10T22:39:40.946398",
     "status": "completed"
    },
    "tags": []
   },
   "outputs": [
    {
     "data": {
      "text/plain": [
       "0.8110791102600152"
      ]
     },
     "execution_count": 21,
     "metadata": {},
     "output_type": "execute_result"
    }
   ],
   "source": [
    "y_pred = lasso.predict(X_test)\n",
    "r2_score(np.exp(y_test), np.exp(y_pred))"
   ]
  },
  {
   "cell_type": "markdown",
   "id": "earned-cologne",
   "metadata": {
    "id": "pRgFUI7qVVb-",
    "papermill": {
     "duration": 0.061982,
     "end_time": "2021-05-10T22:39:41.158986",
     "exception": false,
     "start_time": "2021-05-10T22:39:41.097004",
     "status": "completed"
    },
    "tags": []
   },
   "source": [
    "## More exploration: Random Forest regression\n",
    "Reference: https://scikit-learn.org/stable/modules/generated/sklearn.ensemble.RandomForestRegressor.html"
   ]
  },
  {
   "cell_type": "code",
   "execution_count": 22,
   "id": "aging-equation",
   "metadata": {
    "execution": {
     "iopub.execute_input": "2021-05-10T22:39:41.256854Z",
     "iopub.status.busy": "2021-05-10T22:39:41.256086Z",
     "iopub.status.idle": "2021-05-10T22:39:59.348473Z",
     "shell.execute_reply": "2021-05-10T22:39:59.347798Z"
    },
    "id": "jioXQ4Ob43g8",
    "outputId": "771334e7-e19f-4082-acd6-0e1a86a36422",
    "papermill": {
     "duration": 18.14398,
     "end_time": "2021-05-10T22:39:59.348615",
     "exception": false,
     "start_time": "2021-05-10T22:39:41.204635",
     "status": "completed"
    },
    "tags": []
   },
   "outputs": [
    {
     "data": {
      "image/png": "[encoded data removed]",
      "text/plain": [
       "<Figure size 576x432 with 1 Axes>"
      ]
     },
     "metadata": {
      "needs_background": "light"
     },
     "output_type": "display_data"
    }
   ],
   "source": [
    "from sklearn.ensemble import RandomForestRegressor\n",
    "\n",
    "rf = RandomForestRegressor(random_state=12345)\n",
    "rf.fit(X_train, y_train)\n",
    "\n",
    "importance = pd.Series(rf.feature_importances_, index=X.columns) \\\n",
    "  .sort_values(ascending=False)\n",
    "plt.figure(figsize=(8, 6))\n",
    "plt.bar(importance.index, importance)\n",
    "plt.grid()\n",
    "plt.title(\"Feature importances\")\n",
    "plt.xticks(rotation=-90)\n",
    "plt.show()"
   ]
  },
  {
   "cell_type": "code",
   "execution_count": 23,
   "id": "ceramic-introduction",
   "metadata": {
    "execution": {
     "iopub.execute_input": "2021-05-10T22:39:59.450205Z",
     "iopub.status.busy": "2021-05-10T22:39:59.449161Z",
     "iopub.status.idle": "2021-05-10T22:40:00.080072Z",
     "shell.execute_reply": "2021-05-10T22:40:00.079503Z"
    },
    "id": "cmFevIDFV2sj",
    "outputId": "aee5ea7e-79da-4d72-a1f9-74ca104fbb8a",
    "papermill": {
     "duration": 0.684937,
     "end_time": "2021-05-10T22:40:00.080274",
     "exception": false,
     "start_time": "2021-05-10T22:39:59.395337",
     "status": "completed"
    },
    "tags": []
   },
   "outputs": [
    {
     "data": {
      "text/plain": [
       "0.8757660387690898"
      ]
     },
     "execution_count": 23,
     "metadata": {},
     "output_type": "execute_result"
    }
   ],
   "source": [
    "y_pred = rf.predict(X_test)\n",
    "r2_score(np.exp(y_test), np.exp(y_pred))"
   ]
  },
  {
   "cell_type": "code",
   "execution_count": 24,
   "id": "asian-malaysia",
   "metadata": {
    "execution": {
     "iopub.execute_input": "2021-05-10T22:40:00.183894Z",
     "iopub.status.busy": "2021-05-10T22:40:00.183206Z",
     "iopub.status.idle": "2021-05-10T22:51:46.429728Z",
     "shell.execute_reply": "2021-05-10T22:51:46.430264Z"
    },
    "id": "pcBwJL09WffG",
    "papermill": {
     "duration": 706.303142,
     "end_time": "2021-05-10T22:51:46.430450",
     "exception": false,
     "start_time": "2021-05-10T22:40:00.127308",
     "status": "completed"
    },
    "tags": []
   },
   "outputs": [
    {
     "data": {
      "text/plain": [
       "0.7472980044439469"
      ]
     },
     "execution_count": 24,
     "metadata": {},
     "output_type": "execute_result"
    }
   ],
   "source": [
    "rf = RandomForestRegressor(ccp_alpha=0.001, random_state=12345)\n",
    "rf.fit(X_train, y_train)\n",
    "\n",
    "y_pred = rf.predict(X_test)\n",
    "r2_score(np.exp(y_test), np.exp(y_pred))"
   ]
  },
  {
   "cell_type": "code",
   "execution_count": 25,
   "id": "private-malaysia",
   "metadata": {
    "execution": {
     "iopub.execute_input": "2021-05-10T22:51:46.533374Z",
     "iopub.status.busy": "2021-05-10T22:51:46.532699Z",
     "iopub.status.idle": "2021-05-10T22:53:16.998971Z",
     "shell.execute_reply": "2021-05-10T22:53:16.999471Z"
    },
    "papermill": {
     "duration": 90.521907,
     "end_time": "2021-05-10T22:53:16.999670",
     "exception": false,
     "start_time": "2021-05-10T22:51:46.477763",
     "status": "completed"
    },
    "tags": []
   },
   "outputs": [
    {
     "data": {
      "text/plain": [
       "0.8764367127897139"
      ]
     },
     "execution_count": 25,
     "metadata": {},
     "output_type": "execute_result"
    }
   ],
   "source": [
    "rf = RandomForestRegressor(n_estimators=500, random_state=12345)\n",
    "rf.fit(X_train, y_train)\n",
    "\n",
    "y_pred = rf.predict(X_test)\n",
    "r2_score(np.exp(y_test), np.exp(y_pred))"
   ]
  },
  {
   "cell_type": "code",
   "execution_count": 26,
   "id": "biblical-strike",
   "metadata": {
    "execution": {
     "iopub.execute_input": "2021-05-10T22:53:17.174429Z",
     "iopub.status.busy": "2021-05-10T22:53:17.173191Z",
     "iopub.status.idle": "2021-05-10T22:56:17.604890Z",
     "shell.execute_reply": "2021-05-10T22:56:17.605411Z"
    },
    "papermill": {
     "duration": 180.557978,
     "end_time": "2021-05-10T22:56:17.605588",
     "exception": false,
     "start_time": "2021-05-10T22:53:17.047610",
     "status": "completed"
    },
    "tags": []
   },
   "outputs": [
    {
     "data": {
      "text/plain": [
       "0.876513678482345"
      ]
     },
     "execution_count": 26,
     "metadata": {},
     "output_type": "execute_result"
    }
   ],
   "source": [
    "rf = RandomForestRegressor(n_estimators=1000, random_state=12345)\n",
    "rf.fit(X_train, y_train)\n",
    "\n",
    "y_pred = rf.predict(X_test)\n",
    "r2_score(np.exp(y_test), np.exp(y_pred))"
   ]
  },
  {
   "cell_type": "markdown",
   "id": "modular-liabilities",
   "metadata": {
    "id": "SQI-vcO0vkxE",
    "papermill": {
     "duration": 0.048094,
     "end_time": "2021-05-10T22:56:17.702634",
     "exception": false,
     "start_time": "2021-05-10T22:56:17.654540",
     "status": "completed"
    },
    "tags": []
   },
   "source": [
    "## Advanced model: Neural Networks"
   ]
  },
  {
   "cell_type": "code",
   "execution_count": 27,
   "id": "humanitarian-colony",
   "metadata": {
    "execution": {
     "iopub.execute_input": "2021-05-10T22:56:17.805455Z",
     "iopub.status.busy": "2021-05-10T22:56:17.804765Z",
     "iopub.status.idle": "2021-05-10T22:56:18.949079Z",
     "shell.execute_reply": "2021-05-10T22:56:18.948365Z"
    },
    "id": "3MNrPs9wvI7C",
    "papermill": {
     "duration": 1.19731,
     "end_time": "2021-05-10T22:56:18.949253",
     "exception": false,
     "start_time": "2021-05-10T22:56:17.751943",
     "status": "completed"
    },
    "tags": []
   },
   "outputs": [],
   "source": [
    "import torch\n",
    "import torch.nn as nn\n",
    "import torch.nn.functional as F"
   ]
  },
  {
   "cell_type": "code",
   "execution_count": 28,
   "id": "portuguese-central",
   "metadata": {
    "execution": {
     "iopub.execute_input": "2021-05-10T22:56:19.050906Z",
     "iopub.status.busy": "2021-05-10T22:56:19.049956Z",
     "iopub.status.idle": "2021-05-10T22:56:19.057804Z",
     "shell.execute_reply": "2021-05-10T22:56:19.058274Z"
    },
    "id": "NoLraLa4of1B",
    "papermill": {
     "duration": 0.060213,
     "end_time": "2021-05-10T22:56:19.058488",
     "exception": false,
     "start_time": "2021-05-10T22:56:18.998275",
     "status": "completed"
    },
    "tags": []
   },
   "outputs": [],
   "source": [
    "class price_prediction(nn.Module):\n",
    "    def __init__(self):\n",
    "        super(price_prediction, self).__init__()\n",
    "        self.fc1 = nn.Linear(17, 20)\n",
    "        self.fc2 = nn.Linear(20, 50)\n",
    "        self.fc3 = nn.Linear(50, 20)\n",
    "        self.fc4 = nn.Linear(20, 1)\n",
    "    def forward(self, x):\n",
    "        x = F.leaky_relu(self.fc1(x))\n",
    "        x = F.leaky_relu(self.fc2(x))\n",
    "        x = F.leaky_relu(self.fc3(x))\n",
    "        return self.fc4(x)"
   ]
  },
  {
   "cell_type": "code",
   "execution_count": 29,
   "id": "balanced-murder",
   "metadata": {
    "execution": {
     "iopub.execute_input": "2021-05-10T22:56:19.161861Z",
     "iopub.status.busy": "2021-05-10T22:56:19.161182Z",
     "iopub.status.idle": "2021-05-10T22:56:19.193761Z",
     "shell.execute_reply": "2021-05-10T22:56:19.194256Z"
    },
    "id": "pkr6Ob6CqCIn",
    "papermill": {
     "duration": 0.087395,
     "end_time": "2021-05-10T22:56:19.194457",
     "exception": false,
     "start_time": "2021-05-10T22:56:19.107062",
     "status": "completed"
    },
    "tags": []
   },
   "outputs": [],
   "source": [
    "X_train_tensor = torch.tensor(X_train.values, dtype = torch.float)\n",
    "y_train_tensor = torch.tensor(y_train.values.reshape(-1, 1), dtype = torch.float)\n",
    "X_test_tensor = torch.tensor(X_test.values, dtype = torch.float)\n",
    "y_test_tensor = torch.tensor(y_test.values.reshape(-1, 1), dtype = torch.float)"
   ]
  },
  {
   "cell_type": "code",
   "execution_count": 30,
   "id": "romance-boutique",
   "metadata": {
    "execution": {
     "iopub.execute_input": "2021-05-10T22:56:19.295709Z",
     "iopub.status.busy": "2021-05-10T22:56:19.295043Z",
     "iopub.status.idle": "2021-05-10T22:58:16.174083Z",
     "shell.execute_reply": "2021-05-10T22:58:16.173568Z"
    },
    "id": "6kwV1gkvwPhP",
    "outputId": "be528e21-b32d-4632-9be7-2fe7ed04ad7a",
    "papermill": {
     "duration": 116.930605,
     "end_time": "2021-05-10T22:58:16.174285",
     "exception": false,
     "start_time": "2021-05-10T22:56:19.243680",
     "status": "completed"
    },
    "tags": []
   },
   "outputs": [
    {
     "data": {
      "application/vnd.jupyter.widget-view+json": {
       "model_id": "a46272bfaf7a489a857048872feb133c",
       "version_major": 2,
       "version_minor": 0
      },
      "text/plain": [
       "  0%|          | 0/3000 [00:00<?, ?it/s]"
      ]
     },
     "metadata": {},
     "output_type": "display_data"
    },
    {
     "name": "stdout",
     "output_type": "stream",
     "text": [
      "Epoch: 0 , Loss: 114.6186752319336\n",
      "Epoch: 200 , Loss: 0.26861482858657837\n",
      "Epoch: 400 , Loss: 0.16790726780891418\n",
      "Epoch: 600 , Loss: 0.17510581016540527\n",
      "Epoch: 800 , Loss: 0.09859368950128555\n",
      "Epoch: 1000 , Loss: 0.05838882550597191\n",
      "Epoch: 1200 , Loss: 0.054633717983961105\n",
      "Epoch: 1400 , Loss: 0.058321256190538406\n",
      "Epoch: 1600 , Loss: 0.06822606176137924\n",
      "Epoch: 1800 , Loss: 0.06114134192466736\n",
      "Epoch: 2000 , Loss: 0.051576320081949234\n",
      "Epoch: 2200 , Loss: 0.05963641777634621\n",
      "Epoch: 2400 , Loss: 0.05492632836103439\n",
      "Epoch: 2600 , Loss: 0.04387027025222778\n",
      "Epoch: 2800 , Loss: 0.05103486031293869\n"
     ]
    },
    {
     "data": {
      "image/png": "[encoded data removed]",
      "text/plain": [
       "<Figure size 576x432 with 1 Axes>"
      ]
     },
     "metadata": {
      "needs_background": "light"
     },
     "output_type": "display_data"
    }
   ],
   "source": [
    "from tqdm.notebook import tqdm\n",
    "\n",
    "net = price_prediction()\n",
    "optimizer = torch.optim.Adam(net.parameters(), lr=0.01)\n",
    "criterion = nn.MSELoss()\n",
    "\n",
    "nepochs = 3000\n",
    "train_loss, test_loss = [], []\n",
    "for epoch in tqdm(range(nepochs)):\n",
    "    pass\n",
    "    optimizer.zero_grad()\n",
    "    output = net(X_train_tensor)\n",
    "    loss = criterion(output, y_train_tensor)\n",
    "    loss.backward()\n",
    "    optimizer.step()\n",
    "    train_loss.append(loss.item())\n",
    "    test_loss.append(criterion(net(X_test_tensor), y_test_tensor).item())\n",
    "    if epoch % 200 == 0:\n",
    "        print(\"Epoch:\", epoch, \", Loss:\", loss.item())\n",
    "\n",
    "plt.figure(figsize=(8, 6))\n",
    "train_plot, = plt.plot(train_loss)\n",
    "test_plot, = plt.plot(test_loss)\n",
    "plt.legend(handles=[train_plot, test_plot], labels=[\"Training\", \"Testing\"])\n",
    "plt.grid()\n",
    "plt.show()"
   ]
  },
  {
   "cell_type": "code",
   "execution_count": 31,
   "id": "necessary-manner",
   "metadata": {
    "execution": {
     "iopub.execute_input": "2021-05-10T22:58:16.287484Z",
     "iopub.status.busy": "2021-05-10T22:58:16.286879Z",
     "iopub.status.idle": "2021-05-10T22:58:16.298370Z",
     "shell.execute_reply": "2021-05-10T22:58:16.297822Z"
    },
    "id": "Dhc9Y4D_r6xH",
    "outputId": "33078e0d-415d-4ee9-cb68-cd26074ffb48",
    "papermill": {
     "duration": 0.069528,
     "end_time": "2021-05-10T22:58:16.298503",
     "exception": false,
     "start_time": "2021-05-10T22:58:16.228975",
     "status": "completed"
    },
    "tags": []
   },
   "outputs": [
    {
     "data": {
      "text/plain": [
       "0.8335760410759385"
      ]
     },
     "execution_count": 31,
     "metadata": {},
     "output_type": "execute_result"
    }
   ],
   "source": [
    "y_pred = net(X_test_tensor).detach().numpy()\n",
    "r2_score(y_test, y_pred)"
   ]
  }
 ],
 "metadata": {
  "kernelspec": {
   "display_name": "Python 3",
   "language": "python",
   "name": "python3"
  },
  "language_info": {
   "codemirror_mode": {
    "name": "ipython",
    "version": 3
   },
   "file_extension": ".py",
   "mimetype": "text/x-python",
   "name": "python",
   "nbconvert_exporter": "python",
   "pygments_lexer": "ipython3",
   "version": "3.7.10"
  },
  "papermill": {
   "default_parameters": {},
   "duration": 1144.203985,
   "end_time": "2021-05-10T22:58:17.793221",
   "environment_variables": {},
   "exception": null,
   "input_path": "__notebook__.ipynb",
   "output_path": "__notebook__.ipynb",
   "parameters": {},
   "start_time": "2021-05-10T22:39:13.589236",
   "version": "2.3.3"
  },
  "widgets": {
   "application/vnd.jupyter.widget-state+json": {
    "state": {
     "0b673fc877a24fd6bc28bbece48b558a": {
      "model_module": "@jupyter-widgets/controls",
      "model_module_version": "1.5.0",
      "model_name": "DescriptionStyleModel",
      "state": {
       "_model_module": "@jupyter-widgets/controls",
       "_model_module_version": "1.5.0",
       "_model_name": "DescriptionStyleModel",
       "_view_count": null,
       "_view_module": "@jupyter-widgets/base",
       "_view_module_version": "1.2.0",
       "_view_name": "StyleView",
       "description_width": ""
      }
     },
     "334e3defc80b4b4eafd11789a036c0f4": {
      "model_module": "@jupyter-widgets/controls",
      "model_module_version": "1.5.0",
      "model_name": "DescriptionStyleModel",
      "state": {
       "_model_module": "@jupyter-widgets/controls",
       "_model_module_version": "1.5.0",
       "_model_name": "DescriptionStyleModel",
       "_view_count": null,
       "_view_module": "@jupyter-widgets/base",
       "_view_module_version": "1.2.0",
       "_view_name": "StyleView",
       "description_width": ""
      }
     },
     "394c2b41cdc64933b867c97d223eb287": {
      "model_module": "@jupyter-widgets/controls",
      "model_module_version": "1.5.0",
      "model_name": "HTMLModel",
      "state": {
       "_dom_classes": [],
       "_model_module": "@jupyter-widgets/controls",
       "_model_module_version": "1.5.0",
       "_model_name": "HTMLModel",
       "_view_count": null,
       "_view_module": "@jupyter-widgets/controls",
       "_view_module_version": "1.5.0",
       "_view_name": "HTMLView",
       "description": "",
       "description_tooltip": null,
       "layout": "IPY_MODEL_3c0eccea54cb4ab89a808f96636cbd2d",
       "placeholder": "​",
       "style": "IPY_MODEL_0b673fc877a24fd6bc28bbece48b558a",
       "value": "100%"
      }
     },
     "3c0eccea54cb4ab89a808f96636cbd2d": {
      "model_module": "@jupyter-widgets/base",
      "model_module_version": "1.2.0",
      "model_name": "LayoutModel",
      "state": {
       "_model_module": "@jupyter-widgets/base",
       "_model_module_version": "1.2.0",
       "_model_name": "LayoutModel",
       "_view_count": null,
       "_view_module": "@jupyter-widgets/base",
       "_view_module_version": "1.2.0",
       "_view_name": "LayoutView",
       "align_content": null,
       "align_items": null,
       "align_self": null,
       "border": null,
       "bottom": null,
       "display": null,
       "flex": null,
       "flex_flow": null,
       "grid_area": null,
       "grid_auto_columns": null,
       "grid_auto_flow": null,
       "grid_auto_rows": null,
       "grid_column": null,
       "grid_gap": null,
       "grid_row": null,
       "grid_template_areas": null,
       "grid_template_columns": null,
       "grid_template_rows": null,
       "height": null,
       "justify_content": null,
       "justify_items": null,
       "left": null,
       "margin": null,
       "max_height": null,
       "max_width": null,
       "min_height": null,
       "min_width": null,
       "object_fit": null,
       "object_position": null,
       "order": null,
       "overflow": null,
       "overflow_x": null,
       "overflow_y": null,
       "padding": null,
       "right": null,
       "top": null,
       "visibility": null,
       "width": null
      }
     },
     "54459437f46a4c48b0bb73a36f7c8796": {
      "model_module": "@jupyter-widgets/base",
      "model_module_version": "1.2.0",
      "model_name": "LayoutModel",
      "state": {
       "_model_module": "@jupyter-widgets/base",
       "_model_module_version": "1.2.0",
       "_model_name": "LayoutModel",
       "_view_count": null,
       "_view_module": "@jupyter-widgets/base",
       "_view_module_version": "1.2.0",
       "_view_name": "LayoutView",
       "align_content": null,
       "align_items": null,
       "align_self": null,
       "border": null,
       "bottom": null,
       "display": null,
       "flex": null,
       "flex_flow": null,
       "grid_area": null,
       "grid_auto_columns": null,
       "grid_auto_flow": null,
       "grid_auto_rows": null,
       "grid_column": null,
       "grid_gap": null,
       "grid_row": null,
       "grid_template_areas": null,
       "grid_template_columns": null,
       "grid_template_rows": null,
       "height": null,
       "justify_content": null,
       "justify_items": null,
       "left": null,
       "margin": null,
       "max_height": null,
       "max_width": null,
       "min_height": null,
       "min_width": null,
       "object_fit": null,
       "object_position": null,
       "order": null,
       "overflow": null,
       "overflow_x": null,
       "overflow_y": null,
       "padding": null,
       "right": null,
       "top": null,
       "visibility": null,
       "width": null
      }
     },
     "7978886f4fbf48888a696461011dac87": {
      "model_module": "@jupyter-widgets/controls",
      "model_module_version": "1.5.0",
      "model_name": "HTMLModel",
      "state": {
       "_dom_classes": [],
       "_model_module": "@jupyter-widgets/controls",
       "_model_module_version": "1.5.0",
       "_model_name": "HTMLModel",
       "_view_count": null,
       "_view_module": "@jupyter-widgets/controls",
       "_view_module_version": "1.5.0",
       "_view_name": "HTMLView",
       "description": "",
       "description_tooltip": null,
       "layout": "IPY_MODEL_54459437f46a4c48b0bb73a36f7c8796",
       "placeholder": "​",
       "style": "IPY_MODEL_334e3defc80b4b4eafd11789a036c0f4",
       "value": " 3000/3000 [01:56&lt;00:00, 25.44it/s]"
      }
     },
     "7dfa5d01c9974157af18b79fa1d3fc75": {
      "model_module": "@jupyter-widgets/controls",
      "model_module_version": "1.5.0",
      "model_name": "FloatProgressModel",
      "state": {
       "_dom_classes": [],
       "_model_module": "@jupyter-widgets/controls",
       "_model_module_version": "1.5.0",
       "_model_name": "FloatProgressModel",
       "_view_count": null,
       "_view_module": "@jupyter-widgets/controls",
       "_view_module_version": "1.5.0",
       "_view_name": "ProgressView",
       "bar_style": "success",
       "description": "",
       "description_tooltip": null,
       "layout": "IPY_MODEL_d18502cee64841689c4e9675c5c58d92",
       "max": 3000.0,
       "min": 0.0,
       "orientation": "horizontal",
       "style": "IPY_MODEL_e9987ce5b6b144399033dea2ad00b7ac",
       "value": 3000.0
      }
     },
     "8381c1b8defe45ef80f8dc2d1df266cc": {
      "model_module": "@jupyter-widgets/base",
      "model_module_version": "1.2.0",
      "model_name": "LayoutModel",
      "state": {
       "_model_module": "@jupyter-widgets/base",
       "_model_module_version": "1.2.0",
       "_model_name": "LayoutModel",
       "_view_count": null,
       "_view_module": "@jupyter-widgets/base",
       "_view_module_version": "1.2.0",
       "_view_name": "LayoutView",
       "align_content": null,
       "align_items": null,
       "align_self": null,
       "border": null,
       "bottom": null,
       "display": null,
       "flex": null,
       "flex_flow": null,
       "grid_area": null,
       "grid_auto_columns": null,
       "grid_auto_flow": null,
       "grid_auto_rows": null,
       "grid_column": null,
       "grid_gap": null,
       "grid_row": null,
       "grid_template_areas": null,
       "grid_template_columns": null,
       "grid_template_rows": null,
       "height": null,
       "justify_content": null,
       "justify_items": null,
       "left": null,
       "margin": null,
       "max_height": null,
       "max_width": null,
       "min_height": null,
       "min_width": null,
       "object_fit": null,
       "object_position": null,
       "order": null,
       "overflow": null,
       "overflow_x": null,
       "overflow_y": null,
       "padding": null,
       "right": null,
       "top": null,
       "visibility": null,
       "width": null
      }
     },
     "a46272bfaf7a489a857048872feb133c": {
      "model_module": "@jupyter-widgets/controls",
      "model_module_version": "1.5.0",
      "model_name": "HBoxModel",
      "state": {
       "_dom_classes": [],
       "_model_module": "@jupyter-widgets/controls",
       "_model_module_version": "1.5.0",
       "_model_name": "HBoxModel",
       "_view_count": null,
       "_view_module": "@jupyter-widgets/controls",
       "_view_module_version": "1.5.0",
       "_view_name": "HBoxView",
       "box_style": "",
       "children": [
        "IPY_MODEL_394c2b41cdc64933b867c97d223eb287",
        "IPY_MODEL_7dfa5d01c9974157af18b79fa1d3fc75",
        "IPY_MODEL_7978886f4fbf48888a696461011dac87"
       ],
       "layout": "IPY_MODEL_8381c1b8defe45ef80f8dc2d1df266cc"
      }
     },
     "d18502cee64841689c4e9675c5c58d92": {
      "model_module": "@jupyter-widgets/base",
      "model_module_version": "1.2.0",
      "model_name": "LayoutModel",
      "state": {
       "_model_module": "@jupyter-widgets/base",
       "_model_module_version": "1.2.0",
       "_model_name": "LayoutModel",
       "_view_count": null,
       "_view_module": "@jupyter-widgets/base",
       "_view_module_version": "1.2.0",
       "_view_name": "LayoutView",
       "align_content": null,
       "align_items": null,
       "align_self": null,
       "border": null,
       "bottom": null,
       "display": null,
       "flex": null,
       "flex_flow": null,
       "grid_area": null,
       "grid_auto_columns": null,
       "grid_auto_flow": null,
       "grid_auto_rows": null,
       "grid_column": null,
       "grid_gap": null,
       "grid_row": null,
       "grid_template_areas": null,
       "grid_template_columns": null,
       "grid_template_rows": null,
       "height": null,
       "justify_content": null,
       "justify_items": null,
       "left": null,
       "margin": null,
       "max_height": null,
       "max_width": null,
       "min_height": null,
       "min_width": null,
       "object_fit": null,
       "object_position": null,
       "order": null,
       "overflow": null,
       "overflow_x": null,
       "overflow_y": null,
       "padding": null,
       "right": null,
       "top": null,
       "visibility": null,
       "width": null
      }
     },
     "e9987ce5b6b144399033dea2ad00b7ac": {
      "model_module": "@jupyter-widgets/controls",
      "model_module_version": "1.5.0",
      "model_name": "ProgressStyleModel",
      "state": {
       "_model_module": "@jupyter-widgets/controls",
       "_model_module_version": "1.5.0",
       "_model_name": "ProgressStyleModel",
       "_view_count": null,
       "_view_module": "@jupyter-widgets/base",
       "_view_module_version": "1.2.0",
       "_view_name": "StyleView",
       "bar_color": null,
       "description_width": ""
      }
     }
    },
    "version_major": 2,
    "version_minor": 0
   }
  }
 },
 "nbformat": 4,
 "nbformat_minor": 5
}
